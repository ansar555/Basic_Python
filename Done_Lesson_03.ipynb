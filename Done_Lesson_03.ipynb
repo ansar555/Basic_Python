{
 "cells": [
  {
   "cell_type": "markdown",
   "metadata": {},
   "source": [
    "## 03 - 00 Python in Practice\n",
    "\n",
    "- In the previous modules, we learnt about python's built-in 'simple' types. In this module, we will learn about the different ways in which the data of those types can be organized, so that it can be used (algorithmically) efficiently.\n",
    "> we have already covered `str`, `int`, `float`, and `complex`. Here, we will also introduce the remaining two -- `bool` and `None` python's built-in types\n",
    "\n",
    "- We will also take a look at how to reduce code duplication and improve code readability by using Functions.\n",
    "\n",
    "- Finally we will look at Exception Handling in which we will learn about ways of making our code handle the errors without crashing.\n",
    "\n",
    "## Data Structures\n",
    "In the previous modules, we learnt about python's built-in 'simple' types. In this module, we will learn about the different ways in which the data of those types can be organized, so that it can be used (algorithmically) efficiently.\n",
    "> we have already covered `str`, `int`, `float`, and `complex`. Here, we will also introduce the remaining two -- `bool` and `None` python's built-in types\n",
    "\n",
    "Python's most basic data structure is the `sequence`. Each element of a sequence is assigned a number known as index number. Different types of sequences in Python are:\n",
    "- `List`\n",
    "- `Tuple`\n",
    "- `Range`\n",
    "- Text sequence types e.g. `str`\n",
    "- Binary sequence types e.g. `bytearray`, `buffer`\n",
    "\n",
    "Python has several built-in data structures (or compound types) that act as containers and hold the other types. They are:\n",
    "- List\n",
    "- Tuples\n",
    "- Sets\n",
    "- Dictionaries"
   ]
  },
  {
   "cell_type": "markdown",
   "metadata": {},
   "source": [
    "## 03 - 01 Lists\n",
    "The `list` is the most versatile datatype available in Python which can be written as a `list` of comma-separated values between square brackets. Creating a list is as simple as putting different items separated by comma between square brackets.\n",
    "\n",
    "Example:"
   ]
  },
  {
   "cell_type": "code",
   "execution_count": 1,
   "metadata": {},
   "outputs": [
    {
     "name": "stdout",
     "output_type": "stream",
     "text": [
      "Contents of my_list:.['Python', 'Julia', 1, 3.1415] \n",
      "Type: <class 'list'> \n"
     ]
    }
   ],
   "source": [
    "# Notice the mix data types\n",
    "my_list = ['Python', 'Julia', 1, 3.1415]\n",
    "print(\"Contents of my_list:.{} \\nType: {} \".format(my_list, type(my_list)))"
   ]
  },
  {
   "cell_type": "markdown",
   "metadata": {},
   "source": [
    "> `\\n` is the escape character for line break\n",
    "\n",
    "Python is zero-index based, thus to get the first item we simply ask for the item/ element on the 0th index."
   ]
  },
  {
   "cell_type": "code",
   "execution_count": 2,
   "metadata": {},
   "outputs": [
    {
     "data": {
      "text/plain": [
       "'Python'"
      ]
     },
     "execution_count": 2,
     "metadata": {},
     "output_type": "execute_result"
    }
   ],
   "source": [
    "my_list[0]"
   ]
  },
  {
   "cell_type": "markdown",
   "metadata": {},
   "source": [
    "We will now briefly go over the basic list manipulations (which are similar to strings) and then look at some more methods that makes lists unique.\n",
    "\n",
    "#### .. 01.01 Slicing the List\n",
    "\n",
    "A shallow copy of the list is performed and a new list is created containing the requested elements.\n",
    "\n",
    "Example:"
   ]
  },
  {
   "cell_type": "code",
   "execution_count": 3,
   "metadata": {},
   "outputs": [
    {
     "data": {
      "text/plain": [
       "['Python', 'Julia']"
      ]
     },
     "execution_count": 3,
     "metadata": {},
     "output_type": "execute_result"
    }
   ],
   "source": [
    "my_list = ['Python', 'Julia', 1, 3.1415]\n",
    "# Performs shallow copy and returns a **new** list with first two elements\n",
    "my_list[:2] # [:2] means between start=0 and stop=2 index values (excluding stop)"
   ]
  },
  {
   "cell_type": "markdown",
   "metadata": {},
   "source": [
    "The slicing can also  be done to get the **n-th** value from a list by passing n as the third argument."
   ]
  },
  {
   "cell_type": "code",
   "execution_count": 4,
   "metadata": {},
   "outputs": [
    {
     "data": {
      "text/plain": [
       "['Julia', 3.1415]"
      ]
     },
     "execution_count": 4,
     "metadata": {},
     "output_type": "execute_result"
    }
   ],
   "source": [
    "my_list[1::2]   "
   ]
  },
  {
   "cell_type": "code",
   "execution_count": 5,
   "metadata": {},
   "outputs": [
    {
     "data": {
      "text/plain": [
       "['Python', 1]"
      ]
     },
     "execution_count": 5,
     "metadata": {},
     "output_type": "execute_result"
    }
   ],
   "source": [
    "my_list[0::2]"
   ]
  },
  {
   "cell_type": "code",
   "execution_count": 6,
   "metadata": {},
   "outputs": [
    {
     "data": {
      "text/plain": [
       "range(1, 10, 3)"
      ]
     },
     "execution_count": 6,
     "metadata": {},
     "output_type": "execute_result"
    }
   ],
   "source": [
    "range(10)[1::3]"
   ]
  },
  {
   "cell_type": "code",
   "execution_count": 7,
   "metadata": {},
   "outputs": [
    {
     "data": {
      "text/plain": [
       "['Julia']"
      ]
     },
     "execution_count": 7,
     "metadata": {},
     "output_type": "execute_result"
    }
   ],
   "source": [
    "# Remember, it doesn't include the nth index value when traversing a list.\n",
    "my_list[-3:-2:1]  # Take every element between index value -3 and -2"
   ]
  },
  {
   "cell_type": "code",
   "execution_count": 8,
   "metadata": {},
   "outputs": [
    {
     "data": {
      "text/plain": [
       "['Julia', 1]"
      ]
     },
     "execution_count": 8,
     "metadata": {},
     "output_type": "execute_result"
    }
   ],
   "source": [
    "my_list[-3:-1]"
   ]
  },
  {
   "cell_type": "markdown",
   "metadata": {},
   "source": [
    "#### .. 01.02 Updating the List\n",
    "\n",
    "Unlike strings and tuples which are immutable, elements in list can be changed without having to create a new list, thus making it mutable.\n",
    "\n",
    "Example:"
   ]
  },
  {
   "cell_type": "code",
   "execution_count": 2,
   "metadata": {},
   "outputs": [
    {
     "name": "stdout",
     "output_type": "stream",
     "text": [
      "Original Contents: \n",
      " ['Python', 'Julia', 'Java', 3.1415]\n",
      "Original Length of array: \n",
      " 4\n",
      "Modified Contents: \n",
      " ['Python', 'Julia']\n",
      "Modified Length of array: \n",
      " 2\n"
     ]
    }
   ],
   "source": [
    "my_list = ['Python', 'Julia', 1, 3.1415]\n",
    "my_list[2] = 'Java'\n",
    "print('Original Contents: \\n', my_list)\n",
    "print('Original Length of array: \\n', len(my_list))\n",
    "# Remove some elements/ changing the size\n",
    "my_list[2:4] = []\n",
    "print('Modified Contents: \\n', my_list)\n",
    "print('Modified Length of array: \\n', len(my_list))"
   ]
  },
  {
   "cell_type": "code",
   "execution_count": 11,
   "metadata": {},
   "outputs": [
    {
     "name": "stdout",
     "output_type": "stream",
     "text": [
      "Original\n",
      " ['Python', 'Julia', 1, 3.1415] \n"
     ]
    }
   ],
   "source": [
    "my_list = ['Python', 'Julia', 1, 3.1415]\n",
    "print('Original\\n {} ' .format(my_list))"
   ]
  },
  {
   "cell_type": "code",
   "execution_count": 14,
   "metadata": {},
   "outputs": [
    {
     "name": "stdout",
     "output_type": "stream",
     "text": [
      "original:\n",
      "\n"
     ]
    }
   ],
   "source": [
    "my_list = ['Python', 'Julia', 1, 3.1415]    #for format print must needed {}\n",
    "print('original:\\n' .format(my_list))"
   ]
  },
  {
   "cell_type": "markdown",
   "metadata": {},
   "source": [
    "#### .. 01.03 Appending to the List\n",
    "\n",
    "New items can be easily added to the list by using the `append()` method.\n",
    "\n",
    "Example:"
   ]
  },
  {
   "cell_type": "code",
   "execution_count": 15,
   "metadata": {},
   "outputs": [
    {
     "name": "stdout",
     "output_type": "stream",
     "text": [
      "['Python', 'Julia', 1, 3.1415, 'C++']\n"
     ]
    }
   ],
   "source": [
    "my_list = ['Python', 'Julia', 1, 3.1415]\n",
    "my_list.append('C++') # It will append the item to the end of the list\n",
    "print(my_list)"
   ]
  },
  {
   "cell_type": "markdown",
   "metadata": {},
   "source": [
    "#### .. 01.04 Copying Lists\n",
    "\n",
    "There are many ways to create a copy of the lists in python. Lets take a look at few techniques:\n",
    "##### using copy package\n",
    "\n",
    "copy packages is packaged with the python so you don't have to install it externally to use it. So what is the reason of creating a separate package? From our first week's session on variables, we know that it is very easy to create copy of objects,right? We do know one thing for sure that assignment statements ( '=' ) in python do not copy the objects, they merely create bindings between the target and the object, right? It so happens that for collections that are mutable or contains mutable items, a copy is sometimes needed so that one can change the content of the mutable item without changing the other. There are actually two ways of creating a copy of an object viz: shallow copy and deep copy. In shallow copy, python constructs a new object and then inserts references to into it that are found in the original list, whereas deepcopy, as you must've guessed it, creates an object and copies everything. (If you are curious to know more about it, head over the [`official documentation`](https://docs.python.org/3.4/library/copy.html) )"
   ]
  },
  {
   "cell_type": "code",
   "execution_count": 16,
   "metadata": {},
   "outputs": [
    {
     "name": "stdout",
     "output_type": "stream",
     "text": [
      "['Python', 'Julia', 1, 3.1415] ['Python', 'Julia', 1, 3.1415]\n"
     ]
    }
   ],
   "source": [
    "import copy\n",
    "my_list  = ['Python', 'Julia', 1, 3.1415]\n",
    "my_list1 = copy.copy(my_list)  # Shallow copy.. Fast\n",
    "my_list2 = copy.deepcopy(my_list)  # Deep copy.. Slower\n",
    "print(my_list1,my_list2)"
   ]
  },
  {
   "cell_type": "markdown",
   "metadata": {},
   "source": [
    "##### using slice"
   ]
  },
  {
   "cell_type": "code",
   "execution_count": 17,
   "metadata": {},
   "outputs": [
    {
     "name": "stdout",
     "output_type": "stream",
     "text": [
      "['Python', 'Julia']\n"
     ]
    }
   ],
   "source": [
    "my_list = ['Python', 'Julia', 1, 3.1415]\n",
    "my_list1 = my_list[:2]\n",
    "print(my_list1)"
   ]
  },
  {
   "cell_type": "markdown",
   "metadata": {},
   "source": [
    "##### using list constructor"
   ]
  },
  {
   "cell_type": "code",
   "execution_count": 18,
   "metadata": {},
   "outputs": [
    {
     "name": "stdout",
     "output_type": "stream",
     "text": [
      "['Python', 'Julia', 1, 3.1415]\n"
     ]
    }
   ],
   "source": [
    "my_list = ['Python', 'Julia', 1, 3.1415]\n",
    "# when list method takes a list as a parameter, it creates a copy of that list\n",
    "my_list1 = list(my_list)\n",
    "print(my_list1)"
   ]
  },
  {
   "cell_type": "markdown",
   "metadata": {},
   "source": [
    "#### .. 01.05 Delete List Elements\n",
    "To remove the list elements, one has two options to either use del statement or lists's remove method ( will be discussed later ).\n",
    "\n",
    "Example:"
   ]
  },
  {
   "cell_type": "code",
   "execution_count": 19,
   "metadata": {},
   "outputs": [
    {
     "data": {
      "text/plain": [
       "[1, 2, 3, 4]"
      ]
     },
     "execution_count": 19,
     "metadata": {},
     "output_type": "execute_result"
    }
   ],
   "source": [
    "my_list = [1, 2, 3, 4, 5]\n",
    "del(my_list[4])\n",
    "my_list"
   ]
  },
  {
   "cell_type": "markdown",
   "metadata": {},
   "source": [
    "#### .. 01.06 Nested Lists\n",
    "It is also possible to create a list of the lists.\n",
    "\n",
    "Example:"
   ]
  },
  {
   "cell_type": "code",
   "execution_count": 20,
   "metadata": {},
   "outputs": [
    {
     "data": {
      "text/plain": [
       "[[1, 2, 3, 4, 5], ['a', 'b', 'c', 'd', 'e']]"
      ]
     },
     "execution_count": 20,
     "metadata": {},
     "output_type": "execute_result"
    }
   ],
   "source": [
    "my_list1 = [1, 2, 3, 4, 5]\n",
    "my_list2 = ['a', 'b', 'c', 'd', 'e']\n",
    "my_list3 = [my_list1, my_list2]\n",
    "my_list3"
   ]
  },
  {
   "cell_type": "markdown",
   "metadata": {},
   "source": [
    "#### .. 01.07 List Concatenation, Repetition, Membership:\n",
    "\n",
    "These are simple list manipulation methods similar to strings. Take a look at following example:"
   ]
  },
  {
   "cell_type": "code",
   "execution_count": 21,
   "metadata": {},
   "outputs": [
    {
     "data": {
      "text/plain": [
       "[1, 2, 3, 4, 5, 'a', 'b', 'c', 'd', 'e']"
      ]
     },
     "execution_count": 21,
     "metadata": {},
     "output_type": "execute_result"
    }
   ],
   "source": [
    "my_list1 = [1, 2, 3, 4, 5]\n",
    "my_list2 = ['a', 'b', 'c', 'd', 'e']\n",
    "my_list1 + my_list2  # List Concatenation"
   ]
  },
  {
   "cell_type": "code",
   "execution_count": 22,
   "metadata": {},
   "outputs": [
    {
     "data": {
      "text/plain": [
       "[1, 2, 3, 4, 5, 1, 2, 3, 4, 5]"
      ]
     },
     "execution_count": 22,
     "metadata": {},
     "output_type": "execute_result"
    }
   ],
   "source": [
    "# List Repition\n",
    "my_list1 * 2"
   ]
  },
  {
   "cell_type": "code",
   "execution_count": 23,
   "metadata": {},
   "outputs": [
    {
     "data": {
      "text/plain": [
       "True"
      ]
     },
     "execution_count": 23,
     "metadata": {},
     "output_type": "execute_result"
    }
   ],
   "source": [
    "# Membership operator, returns true if member of list\n",
    "3 in my_list1"
   ]
  },
  {
   "cell_type": "markdown",
   "metadata": {},
   "source": [
    "#### .. 01.08 Traversing a list:\n",
    "\n",
    "The most straightforward way to traverse a list is using loops:\n",
    "> We will look at loops in detail in loops module\n",
    "\n",
    "##### for loop:\n",
    "Example:"
   ]
  },
  {
   "cell_type": "code",
   "execution_count": 24,
   "metadata": {},
   "outputs": [
    {
     "name": "stdout",
     "output_type": "stream",
     "text": [
      "1\n",
      "2\n",
      "3\n",
      "4\n",
      "5\n"
     ]
    }
   ],
   "source": [
    "my_list = [1, 2, 3, 4, 5]\n",
    "for element in my_list:\n",
    "    print(element)"
   ]
  },
  {
   "cell_type": "markdown",
   "metadata": {},
   "source": [
    "Lets traverse using the index numbers\n",
    "\n",
    "Example:"
   ]
  },
  {
   "cell_type": "code",
   "execution_count": 25,
   "metadata": {},
   "outputs": [
    {
     "name": "stdout",
     "output_type": "stream",
     "text": [
      "my_list[0] : 1\n",
      "my_list[1] : 2\n",
      "my_list[2] : 3\n",
      "my_list[3] : 4\n",
      "my_list[4] : 5\n"
     ]
    }
   ],
   "source": [
    "for index in range(len(my_list)): # start from 0 and go till the length of the list.\n",
    "    print(\"my_list[{}] : {}\".format(index, my_list[index]))"
   ]
  },
  {
   "cell_type": "markdown",
   "metadata": {},
   "source": [
    "##### While loop:\n",
    "Just like for loop, we can traverse the list based on its index numbers (again, we'll learn about loops in next module):\n",
    "\n",
    "Example:"
   ]
  },
  {
   "cell_type": "code",
   "execution_count": 26,
   "metadata": {},
   "outputs": [
    {
     "name": "stdout",
     "output_type": "stream",
     "text": [
      "my_list[0] : 1\n",
      "my_list[1] : 2\n",
      "my_list[2] : 3\n",
      "my_list[3] : 4\n",
      "my_list[4] : 5\n"
     ]
    }
   ],
   "source": [
    "index = 0\n",
    "# till index is less than length of list\n",
    "while index < len(my_list):\n",
    "    print(\"my_list[{}] : {}\".format(index, my_list[index]))\n",
    "    # increment index by 1 at every iteration\n",
    "    index += 1"
   ]
  },
  {
   "cell_type": "markdown",
   "metadata": {},
   "source": [
    "#### .. 01.09 enumerate( )\n",
    "Python has a built-in method called enumerate which returns both index value and value of list ( or any other iterable object).\n",
    "\n",
    "Example:"
   ]
  },
  {
   "cell_type": "code",
   "execution_count": 27,
   "metadata": {},
   "outputs": [
    {
     "name": "stdout",
     "output_type": "stream",
     "text": [
      "my_list[0] : 1\n",
      "my_list[1] : 2\n",
      "my_list[2] : 3\n",
      "my_list[3] : 4\n",
      "my_list[4] : 5\n"
     ]
    }
   ],
   "source": [
    "for ind, val in enumerate(my_list):      #Better one\n",
    "    print(\"my_list[{}] : {}\".format(ind, val))"
   ]
  },
  {
   "cell_type": "markdown",
   "metadata": {},
   "source": [
    "#### 01.10 List Comprehension\n",
    "List comprehension is a syntactic way of creating a list based on the existing list, just like we did in copying the lists above. \n",
    "The basic structure of the syntax includes a for loop that traverses the list and evaluates a condition using if.. else condition and stores the output of the condition as a new list. Lets take a look at a quick example.\n",
    "\n",
    "Example:"
   ]
  },
  {
   "cell_type": "code",
   "execution_count": 29,
   "metadata": {},
   "outputs": [
    {
     "name": "stdout",
     "output_type": "stream",
     "text": [
      "[2, 4]\n"
     ]
    }
   ],
   "source": [
    "my_list1 = [x for x in my_list if x % 2 == 0] \n",
    "print(my_list1)"
   ]
  },
  {
   "cell_type": "markdown",
   "metadata": {},
   "source": [
    "We simply create a list `my_list1` from the elements in `my_list` that are completely divisible by 2.\n",
    "\n",
    "There are many ways in which the list comprehension can be used. It is just a shorthand of writing better readable code."
   ]
  },
  {
   "cell_type": "markdown",
   "metadata": {},
   "source": [
    "#### 01.11 Built- in List Functions and Methods:\n",
    "\n",
    "Python provides following methods for lists:\n",
    "\n",
    "##### max:\n",
    "\n",
    "This method returns the elements from the list with maximum value.\n",
    "\n",
    "Example:"
   ]
  },
  {
   "cell_type": "code",
   "execution_count": 11,
   "metadata": {},
   "outputs": [
    {
     "data": {
      "text/plain": [
       "3"
      ]
     },
     "execution_count": 11,
     "metadata": {},
     "output_type": "execute_result"
    }
   ],
   "source": [
    "my_list1 = [1, 2, 3]\n",
    "max(my_list1)"
   ]
  },
  {
   "cell_type": "code",
   "execution_count": 20,
   "metadata": {},
   "outputs": [
    {
     "data": {
      "text/plain": [
       "[[1, 2, 3, 4], [1, 2, 3, 4, 5]]"
      ]
     },
     "execution_count": 20,
     "metadata": {},
     "output_type": "execute_result"
    }
   ],
   "source": [
    "my_list1=[1,2,3,4]\n",
    "my_list2=[1,2,3,4,5]\n",
    "k=[my_list1,my_list2]\n",
    "k"
   ]
  },
  {
   "cell_type": "code",
   "execution_count": 21,
   "metadata": {},
   "outputs": [
    {
     "data": {
      "text/plain": [
       "[1, 2, 3, 4, 5]"
      ]
     },
     "execution_count": 21,
     "metadata": {},
     "output_type": "execute_result"
    }
   ],
   "source": [
    "max(k)   #now max of two list is calculated by length"
   ]
  },
  {
   "cell_type": "code",
   "execution_count": 23,
   "metadata": {},
   "outputs": [
    {
     "data": {
      "text/plain": [
       "[1, 2, 3, 4]"
      ]
     },
     "execution_count": 23,
     "metadata": {},
     "output_type": "execute_result"
    }
   ],
   "source": [
    "min(k)"
   ]
  },
  {
   "cell_type": "markdown",
   "metadata": {},
   "source": [
    "\n",
    "> What do you think will happen if we compare a list of the lists (nested list)?"
   ]
  },
  {
   "cell_type": "markdown",
   "metadata": {},
   "source": [
    "##### min:\n",
    "\n",
    "This method returns the element from the list with minimum value."
   ]
  },
  {
   "cell_type": "code",
   "execution_count": 22,
   "metadata": {},
   "outputs": [
    {
     "data": {
      "text/plain": [
       "1"
      ]
     },
     "execution_count": 22,
     "metadata": {},
     "output_type": "execute_result"
    }
   ],
   "source": [
    "min(my_list)"
   ]
  },
  {
   "cell_type": "markdown",
   "metadata": {},
   "source": [
    "##### list:\n",
    "\n",
    "This method takes sequence types and converts them to lists. This is also used to convert a tuple to list.\n",
    "\n",
    "Example:"
   ]
  },
  {
   "cell_type": "code",
   "execution_count": 28,
   "metadata": {},
   "outputs": [
    {
     "data": {
      "text/plain": [
       "['Python', 'Julia', 1, 3.1415]"
      ]
     },
     "execution_count": 28,
     "metadata": {},
     "output_type": "execute_result"
    }
   ],
   "source": [
    "my_list = list(('Python', 'Julia', 1, 3.1415))  # iterable as a tuple\n",
    "my_list"
   ]
  },
  {
   "cell_type": "code",
   "execution_count": 29,
   "metadata": {},
   "outputs": [
    {
     "data": {
      "text/plain": [
       "4"
      ]
     },
     "execution_count": 29,
     "metadata": {},
     "output_type": "execute_result"
    }
   ],
   "source": [
    "len(my_list)"
   ]
  },
  {
   "cell_type": "code",
   "execution_count": 31,
   "metadata": {},
   "outputs": [
    {
     "data": {
      "text/plain": [
       "1"
      ]
     },
     "execution_count": 31,
     "metadata": {},
     "output_type": "execute_result"
    }
   ],
   "source": [
    "my_list.count(3.1415)"
   ]
  },
  {
   "cell_type": "markdown",
   "metadata": {},
   "source": [
    "The above line might be a little confusing. `list` is a built-in function which can either create an empty list if it is called with no parameters, or create a new list of the iterable/ sequence that it is given as an input. That means that list can at most 1 argument. Thus we have to put our elements in a circular bracket (which makes it a `tuple`, btw) and then pass it as an argument to list method. \n",
    "\n",
    "##### list.count(obj):\n",
    "This method returns the number of times the object, that is passed as a parameter, occurs in the list.\n",
    "\n",
    "Example:"
   ]
  },
  {
   "cell_type": "code",
   "execution_count": 32,
   "metadata": {},
   "outputs": [
    {
     "data": {
      "text/plain": [
       "1"
      ]
     },
     "execution_count": 32,
     "metadata": {},
     "output_type": "execute_result"
    }
   ],
   "source": [
    "my_list = ['Python', 'Julia', 1, 3.1415]\n",
    "my_list.count('Python')"
   ]
  },
  {
   "cell_type": "markdown",
   "metadata": {},
   "source": [
    "##### list.extend(seq):\n",
    "This method appends the contents of a sequence to a list.\n",
    "> Equivalent operation using slicing -- `my_list1[len(my_list1):] = my_list2` and print `my_list1`."
   ]
  },
  {
   "cell_type": "code",
   "execution_count": 33,
   "metadata": {},
   "outputs": [
    {
     "name": "stdout",
     "output_type": "stream",
     "text": [
      "['Python', 'Julia', 1, 3.1415, 'C++', 'Java', 2, 2.7182]\n"
     ]
    }
   ],
   "source": [
    "my_list1 = ['Python', 'Julia', 1, 3.1415]\n",
    "my_list2 = ['C++', 'Java', 2, 2.7182]\n",
    "my_list1.extend(my_list2)\n",
    "print(my_list1)"
   ]
  },
  {
   "cell_type": "code",
   "execution_count": 30,
   "metadata": {},
   "outputs": [
    {
     "data": {
      "text/plain": [
       "['Python', 'Julia', 1, 3.1415, ['C++', 'Java', 2, 2.7182]]"
      ]
     },
     "execution_count": 30,
     "metadata": {},
     "output_type": "execute_result"
    }
   ],
   "source": [
    "my_list1 = ['Python', 'Julia', 1, 3.1415]    ##This is the difference between extend and append\n",
    "my_list2 = ['C++', 'Java', 2, 2.7182]\n",
    "my_list1.append(my_list2)\n",
    "my_list1"
   ]
  },
  {
   "cell_type": "code",
   "execution_count": 34,
   "metadata": {},
   "outputs": [
    {
     "data": {
      "text/plain": [
       "['Python',\n",
       " 'Julia',\n",
       " 1,\n",
       " 3.1415,\n",
       " 'C++',\n",
       " 'Java',\n",
       " 2,\n",
       " 2.7182,\n",
       " 'C++',\n",
       " 'Java',\n",
       " 2,\n",
       " 2.7182]"
      ]
     },
     "execution_count": 34,
     "metadata": {},
     "output_type": "execute_result"
    }
   ],
   "source": [
    "my_list1[len(my_list1):]= my_list2\n",
    "my_list1"
   ]
  },
  {
   "cell_type": "markdown",
   "metadata": {},
   "source": [
    "##### list.index(obj):\n",
    "\n",
    "This method returns the lowest index in the list that object appears."
   ]
  },
  {
   "cell_type": "code",
   "execution_count": 36,
   "metadata": {},
   "outputs": [
    {
     "data": {
      "text/plain": [
       "1"
      ]
     },
     "execution_count": 36,
     "metadata": {},
     "output_type": "execute_result"
    }
   ],
   "source": [
    "my_list = ['Python', 'Julia', 1, 3.1415]\n",
    "my_list.index('Julia')"
   ]
  },
  {
   "cell_type": "markdown",
   "metadata": {},
   "source": [
    "##### list.insert(index, obj):\n",
    "\n",
    "This method is used to insert the object at the offset index."
   ]
  },
  {
   "cell_type": "code",
   "execution_count": 37,
   "metadata": {},
   "outputs": [
    {
     "name": "stdout",
     "output_type": "stream",
     "text": [
      "['Python', 'Julia', 1, 2.7182, 3.1415]\n"
     ]
    }
   ],
   "source": [
    "my_list = ['Python', 'Julia', 1, 3.1415]\n",
    "my_list.insert(3, 2.7182)\n",
    "print(my_list)"
   ]
  },
  {
   "cell_type": "markdown",
   "metadata": {},
   "source": [
    "##### list.pop(obj = list[-1]):\n",
    "\n",
    "This method removes and returns the removed object from the list. If you don't pass the argument to the function, it will by default `pop` the last element from the list"
   ]
  },
  {
   "cell_type": "code",
   "execution_count": 43,
   "metadata": {},
   "outputs": [
    {
     "data": {
      "text/plain": [
       "3.1415"
      ]
     },
     "execution_count": 43,
     "metadata": {},
     "output_type": "execute_result"
    }
   ],
   "source": [
    "my_list = ['Python', 'Julia', 1, 3.1415]\n",
    "# pop the last element\n",
    "my_list.pop(3)"
   ]
  },
  {
   "cell_type": "markdown",
   "metadata": {},
   "source": [
    "##### list.remove(obj):\n",
    "\n",
    "This method is used to remove the object from the list. The `object` to be removed should be passed as an argument to the function. Unlike pop, this does not return anything."
   ]
  },
  {
   "cell_type": "code",
   "execution_count": 44,
   "metadata": {},
   "outputs": [
    {
     "name": "stdout",
     "output_type": "stream",
     "text": [
      "['Python', 1, 3.1415]\n"
     ]
    }
   ],
   "source": [
    "my_list = ['Python', 'Julia', 1, 3.1415]\n",
    "my_list.remove('Julia')\n",
    "print(my_list)"
   ]
  },
  {
   "cell_type": "markdown",
   "metadata": {},
   "source": [
    "##### list.reverse():\n",
    "\n",
    "This method reverses the objects of list in place"
   ]
  },
  {
   "cell_type": "code",
   "execution_count": 45,
   "metadata": {},
   "outputs": [
    {
     "name": "stdout",
     "output_type": "stream",
     "text": [
      "[3.1415, 1, 'Julia', 'Python']\n"
     ]
    }
   ],
   "source": [
    "my_list = ['Python', 'Julia', 1, 3.1415]\n",
    "my_list.reverse()\n",
    "print(my_list)"
   ]
  },
  {
   "cell_type": "markdown",
   "metadata": {},
   "source": [
    "##### list.sort([func]):\n",
    "\n",
    "This method sorts objects of list by using the compare function passed as optional parameter. You can also sort the string in reverse by passing the optional parameter `reverse=True`"
   ]
  },
  {
   "cell_type": "code",
   "execution_count": 41,
   "metadata": {},
   "outputs": [
    {
     "name": "stdout",
     "output_type": "stream",
     "text": [
      "Sorted:          [1, 2, 6, 7, 9]\n",
      "Reverse Sorted:  [9, 7, 6, 2, 1]\n"
     ]
    }
   ],
   "source": [
    "my_list = [7, 6, 1, 9, 2]\n",
    "my_list.sort()\n",
    "print(\"Sorted:         \", my_list)\n",
    "my_list.sort(reverse=True)\n",
    "print(\"Reverse Sorted: \", my_list)"
   ]
  },
  {
   "cell_type": "code",
   "execution_count": 48,
   "metadata": {},
   "outputs": [
    {
     "data": {
      "text/plain": [
       "[1, 3, 4, 6, 6, 8, 9]"
      ]
     },
     "execution_count": 48,
     "metadata": {},
     "output_type": "execute_result"
    }
   ],
   "source": [
    "x = [1,9,4,6,8,3,6]\n",
    "x.sort()\n",
    "x"
   ]
  },
  {
   "cell_type": "markdown",
   "metadata": {},
   "source": [
    "#### .. 01.12 Performance Characteristics:\n",
    "\n",
    "The list has following performance characteristics:\n",
    "\n",
    "- The list object stores pointers to objects, not the actual objects themselves. The size of a list in memory depends on the number of objects in the list, not the size of the objects.\n",
    "- The time needed to get or set an individual item is constant, no matter what the size of the list is (also known as “`O(1)`” behaviour).\n",
    "- The time needed to append an item to the list is “amortized constant”; whenever the list needs to allocate more memory, it allocates room for a few items more than it actually needs, to avoid having to reallocate on each call (this assumes that the memory allocator is fast; for huge lists, the allocation overhead may push the behaviour towards `O(n\\*n)`).\n",
    "- The time needed to insert an item depends on the size of the list, or more exactly, how many items that are to the right of the inserted item (`O(n)`). In other words, inserting items at the end is fast, but inserting items at the beginning can be relatively slow, if the list is large.\n",
    "- The time needed to remove an item is about the same as the time needed to insert an item at the same location; removing items at the end is fast, removing items at the beginning is slow.\n",
    "- The time needed to reverse a list is proportional to the list size (`O(n)`).\n",
    "- The time needed to sort a list varies; the worst case is `O(n log n)`, but typical cases are often a lot better than that."
   ]
  },
  {
   "cell_type": "markdown",
   "metadata": {},
   "source": [
    "## 03 - 02 Tuples\n",
    "Python tuple is much like a list except that it is immutable or unchangeable once created. Tuples use parentheses and creating them is as easy as putting different items separated by a comma between parentheses."
   ]
  },
  {
   "cell_type": "code",
   "execution_count": 54,
   "metadata": {},
   "outputs": [
    {
     "data": {
      "text/plain": [
       "tuple"
      ]
     },
     "execution_count": 54,
     "metadata": {},
     "output_type": "execute_result"
    }
   ],
   "source": [
    "my_tup = ('Python', 'Julia', 1, 3.1415)\n",
    "type(my_tup)"
   ]
  },
  {
   "cell_type": "markdown",
   "metadata": {},
   "source": [
    "Pretty easy.. so the next question is why do we need a new datatype? The answer can be summed up in three points:\n",
    "\n",
    "Tuples are faster than lists. If you ever defined a set of constant values and all you ever want to do is read those values, you should use tuples instead of lists\n",
    "Safer Code. Tuples are like 'write-protected' lists so that the data cannot be changed by accident.\n",
    "Tuples are using in string formatting (we will see this in some examples below)\n",
    "\n",
    "### .. 02.01 Creating a Tuple\n",
    "We already saw one example above on how to create tuples with multiple items but to create a tuple with a single item, you need to include a comma after the first item.\n",
    "> See what happens when you don't enter comma. What is the `type` of such object?"
   ]
  },
  {
   "cell_type": "code",
   "execution_count": 59,
   "metadata": {},
   "outputs": [
    {
     "data": {
      "text/plain": [
       "tuple"
      ]
     },
     "execution_count": 59,
     "metadata": {},
     "output_type": "execute_result"
    }
   ],
   "source": [
    "my_tup = ('test',)\n",
    "type(my_tup)"
   ]
  },
  {
   "cell_type": "code",
   "execution_count": 60,
   "metadata": {},
   "outputs": [
    {
     "data": {
      "text/plain": [
       "str"
      ]
     },
     "execution_count": 60,
     "metadata": {},
     "output_type": "execute_result"
    }
   ],
   "source": [
    "my_tup = ('test')\n",
    "type(my_tup)"
   ]
  },
  {
   "cell_type": "markdown",
   "metadata": {},
   "source": [
    "### .. 02.02 Slicing the Tuple\n",
    "\n",
    "Slicing a tuple is similar to slicing a list."
   ]
  },
  {
   "cell_type": "code",
   "execution_count": 62,
   "metadata": {},
   "outputs": [
    {
     "name": "stdout",
     "output_type": "stream",
     "text": [
      "(3.1415, 'Julia')\n"
     ]
    }
   ],
   "source": [
    "my_tup = ('Python', 'Julia', 1, 3.1415)\n",
    "#print(my_tup[:-3])\n",
    "# -ve sign indicates -ve indexing. So start from right and skip 2 elements\n",
    "print(my_tup[::-2])"
   ]
  },
  {
   "cell_type": "markdown",
   "metadata": {},
   "source": [
    "From above example we can observe that just like lists, slicing a tuple returns a new shallow copied tuple containing the requested items.\n",
    "\n",
    "### .. 02.03 Tuple Concatentation, Repetition, Membership\n",
    "\n",
    "Tuples are immutable objects which means that yo cannot update, append, remove, modify the items in the tuple. However what you can do is take items from different tuples and create new tuples with those. Let's take a look at some examples:"
   ]
  },
  {
   "cell_type": "code",
   "execution_count": 31,
   "metadata": {},
   "outputs": [
    {
     "data": {
      "text/plain": [
       "(1, 2, 3, 4, 5, 'a', 'b', 'c', 'd', 'e')"
      ]
     },
     "execution_count": 31,
     "metadata": {},
     "output_type": "execute_result"
    }
   ],
   "source": [
    "tuple1 = (1, 2, 3, 4, 5)\n",
    "tuple2 = ('a', 'b' , 'c' ,'d' , 'e')\n",
    "# Tuple Concatentation\n",
    "tuple1 + tuple2"
   ]
  },
  {
   "cell_type": "code",
   "execution_count": 32,
   "metadata": {},
   "outputs": [
    {
     "data": {
      "text/plain": [
       "(1, 2, 3, 4, 5, 1, 2, 3, 4, 5)"
      ]
     },
     "execution_count": 32,
     "metadata": {},
     "output_type": "execute_result"
    }
   ],
   "source": [
    "# Tuple Repetition\n",
    "tuple1 * 2"
   ]
  },
  {
   "cell_type": "code",
   "execution_count": 33,
   "metadata": {},
   "outputs": [
    {
     "data": {
      "text/plain": [
       "True"
      ]
     },
     "execution_count": 33,
     "metadata": {},
     "output_type": "execute_result"
    }
   ],
   "source": [
    "# Membership operator, returns true if member of tuple\n",
    "'a' in tuple2"
   ]
  },
  {
   "cell_type": "markdown",
   "metadata": {},
   "source": [
    "### .. 02.04 Nested Tuples\n",
    "\n",
    "It is also possible to create a tuple of tuples or tuple of lists. "
   ]
  },
  {
   "cell_type": "code",
   "execution_count": 35,
   "metadata": {},
   "outputs": [
    {
     "data": {
      "text/plain": [
       "('Python', 'Julia', 1, 3.1415, ('a', 'b'), ('c', 'd'), 1, 2, 3, 4, 5)"
      ]
     },
     "execution_count": 35,
     "metadata": {},
     "output_type": "execute_result"
    }
   ],
   "source": [
    "list1 = ['Python', 'Julia', 1, 3.1415]\n",
    " # List of tuples is possible too!\n",
    "list2 = [('a', 'b'), ('c', 'd')]\n",
    "tuple1 = (1, 2, 3, 4, 5)\n",
    "# Concatenating the list and converting to tuple. \n",
    "# Then adding two tuples and storing it in another tuple\n",
    "tuple2 = tuple(list1 + list2)  + tuple1\n",
    "tuple2"
   ]
  },
  {
   "cell_type": "markdown",
   "metadata": {},
   "source": [
    "> <img src=\"./images/addnl_info.png\", width=30, height=30, align='left'> \n",
    "> - Remember, we cannot concatenate a `list` and a `tuple` so we concatenate two lists and convert the new list into tuple by using the tuple built-in function. Then we concatenate that to tuple1 and store the new tuple as tuple2.\n",
    "\n",
    "### .. 02.05 Traversing a Tuple\n",
    "\n",
    "Tuples can be traversed using the index value of the items. The most straightforward way of traversing a tuple is by using loops.\n",
    "Example: (extending the above example and using the items of tuple2)"
   ]
  },
  {
   "cell_type": "code",
   "execution_count": 36,
   "metadata": {},
   "outputs": [
    {
     "name": "stdout",
     "output_type": "stream",
     "text": [
      "tuple2[0]: Python\n",
      "tuple2[1]: Julia\n",
      "tuple2[2]: 1\n",
      "tuple2[3]: 3.1415\n",
      "tuple2[4]: ('a', 'b')\n",
      "tuple2[5]: ('c', 'd')\n",
      "tuple2[6]: 1\n",
      "tuple2[7]: 2\n",
      "tuple2[8]: 3\n",
      "tuple2[9]: 4\n",
      "tuple2[10]: 5\n"
     ]
    }
   ],
   "source": [
    "for ind in enumerate(tuple2):\n",
    "    print('tuple2[{0[0]}]: {0[1]}'.format(ind))"
   ]
  },
  {
   "cell_type": "markdown",
   "metadata": {},
   "source": [
    "Almost everything that we did in lists apply over here. Ofcourse, except for the fact that we can modify the lists items but not the tuples. Remember, tuples are immutable.\n",
    "\n",
    "#### .. 02.06 Tuple Comprehension\n",
    "We know that list comprehension is performed using a for loop that traverses the list and evaluates a condition using if.. else condition and creates a new list with the output. So for tuples it should be same as the list, right? Let's see:"
   ]
  },
  {
   "cell_type": "code",
   "execution_count": 32,
   "metadata": {},
   "outputs": [
    {
     "data": {
      "text/plain": [
       "generator"
      ]
     },
     "execution_count": 32,
     "metadata": {},
     "output_type": "execute_result"
    }
   ],
   "source": [
    "tuple1 = (1, 2, 3, 4, 5)\n",
    "# Same example as in list comprehension\n",
    "tuple2 = (elem for elem in tuple1 if elem%2 == 0)\n",
    "type(tuple2)"
   ]
  },
  {
   "cell_type": "code",
   "execution_count": 33,
   "metadata": {},
   "outputs": [
    {
     "data": {
      "text/plain": [
       "2"
      ]
     },
     "execution_count": 33,
     "metadata": {},
     "output_type": "execute_result"
    }
   ],
   "source": [
    "next(tuple2)\n"
   ]
  },
  {
   "cell_type": "markdown",
   "metadata": {},
   "source": [
    "Remember when we talked about list comprehension and got all happy looking at such an easier way to create new lists? It so happens that the 'comprehension' for lists and dictionaries is just a syntactic sugar to use a generator expression that outputs a specific type. \n",
    "\n",
    "We learned the basics about generators when we saw `range` function. List comprehension, under the covers, creates a generator expression that outputs a list (just like we did above using next() method). Now that you know the truth behind the comprehension you might feel that you don't need list comprehension but believe me, it is awfully handy for lists when you start writing your codes in python using lists. So if you want  to use comprehension in tuples, you will get a generator expression and you can obtain your results using the next method. This also doesn't require the invention of another brace or bracket."
   ]
  },
  {
   "cell_type": "markdown",
   "metadata": {},
   "source": [
    "> <img src=\"./images/addnl_info.png\" width=30, height=30, align=\"left\"> \n",
    "> - How do you obtain all the elements of generator without using loops? "
   ]
  },
  {
   "cell_type": "markdown",
   "metadata": {},
   "source": [
    "### .. 02.07 Built-in Tuple Functions and Methods\n",
    "\n",
    "Python provides following methods for tuples:"
   ]
  },
  {
   "cell_type": "markdown",
   "metadata": {},
   "source": [
    "##### tuple.count()\n",
    "This method returns the number of times the object, that is passed as a parameter, occurs in the tuple."
   ]
  },
  {
   "cell_type": "code",
   "execution_count": 39,
   "metadata": {},
   "outputs": [
    {
     "data": {
      "text/plain": [
       "1"
      ]
     },
     "execution_count": 39,
     "metadata": {},
     "output_type": "execute_result"
    }
   ],
   "source": [
    "tuple1.count(3)"
   ]
  },
  {
   "cell_type": "markdown",
   "metadata": {},
   "source": [
    "##### tuple.index()\n",
    "This method returns the lowest index in the tuple that object appears at."
   ]
  },
  {
   "cell_type": "code",
   "execution_count": 40,
   "metadata": {},
   "outputs": [
    {
     "data": {
      "text/plain": [
       "2"
      ]
     },
     "execution_count": 40,
     "metadata": {},
     "output_type": "execute_result"
    }
   ],
   "source": [
    "tuple1.index(3)"
   ]
  },
  {
   "cell_type": "markdown",
   "metadata": {},
   "source": [
    "## 03 - 03 Dictionaries\n",
    "Python dictionary is an interesting and useful data structure in python. It is a container of key-value pairs. Just like lists, python dictionaries are mutable and can contain mixed types, however the key **must** be immutable (i.e the object being used as a key must be [hashable](https://docs.python.org/3/glossary.html#term-hashable)) -- e.g. like strings or numbers or even Tuples and must be unique within a dictionary. \n",
    "\n",
    "Python dictionaries are also known as hash tables in other programming languages. Each key is separated from its value by a colon ( `:` ) and just like lists the items are separated by commas and the whole thing is enclosed in curly braces (`{}`).\n",
    "\n",
    "An important thing to remember is that, by design, python dictionaries do not maintain any ordering (i.e the sequence in which the objects were entered). This lack of ordering allows random elements to be accessed quickly, regardless of the size of the dictionary.\n",
    "\n",
    "> For curious minds who wants to know more about `hash`ing (it is not *required*), [wikipedia](https://en.wikipedia.org/wiki/Hash_table) has a good writeup and then maybe this [StackOverflow](http://stackoverflow.com/questions/2061222/what-is-the-true-difference-between-a-dictionary-and-a-hash-table) link.\n",
    "\n",
    "### .. 03.01 Creating Dictionaries"
   ]
  },
  {
   "cell_type": "code",
   "execution_count": 41,
   "metadata": {},
   "outputs": [
    {
     "name": "stdout",
     "output_type": "stream",
     "text": [
      "{'Name': 'Achilles', 'Class': 'Python Skills', 'Course': 'Python'}\n",
      "<class 'dict'>\n"
     ]
    }
   ],
   "source": [
    "student = {'Name': 'Achilles', 'Class': 'Python Skills', 'Course': 'Python'}\n",
    "print(student)\n",
    "print(type(student))"
   ]
  },
  {
   "cell_type": "code",
   "execution_count": 42,
   "metadata": {},
   "outputs": [
    {
     "name": "stdout",
     "output_type": "stream",
     "text": [
      "{'WB': 'West Bengal', 'AP': 'Andhra Pradesh'}\n"
     ]
    }
   ],
   "source": [
    "# Creating empty dictionary\n",
    "states = {}\n",
    "# Keys are inside square brackets and values on the right side of assignment\n",
    "states['WB'] = 'West Bengal'\n",
    "states['AP'] = 'Andhra Pradesh'\n",
    "print(states)"
   ]
  },
  {
   "cell_type": "markdown",
   "metadata": {},
   "source": [
    "You can convert other data structures like lists and tuples to dictionaries too.. Lets look at some of the ways to achieve that:\n",
    "\n",
    "#### .. 03.01.01 fromkeys()"
   ]
  },
  {
   "cell_type": "code",
   "execution_count": 43,
   "metadata": {},
   "outputs": [
    {
     "name": "stdout",
     "output_type": "stream",
     "text": [
      "Just added keys with default values as 0:  {'WB': 0, 'AP': 0}\n",
      "{'WB': 'West Bengal', 'AP': 'Andhra Pradesh'}\n"
     ]
    }
   ],
   "source": [
    "states_key_list   = ['WB', 'AP']\n",
    "# Instead of 0 you can leave the field empty\n",
    "states_dict       = {}.fromkeys(states_key_list, 0)\n",
    "print(\"Just added keys with default values as 0: \", states_dict)\n",
    "states_dict['WB'] = 'West Bengal'\n",
    "states_dict['AP'] = 'Andhra Pradesh'\n",
    "print(states_dict)"
   ]
  },
  {
   "cell_type": "markdown",
   "metadata": {},
   "source": [
    "#### .. 03.01.02 zip()\n",
    "This is a python built-in method to group every element from each iterable passed as an argument.\n",
    "`zip` will return the group of size equal to the smallest iterable."
   ]
  },
  {
   "cell_type": "code",
   "execution_count": 44,
   "metadata": {},
   "outputs": [
    {
     "name": "stdout",
     "output_type": "stream",
     "text": [
      "{'WB': 'West Bengal', 'AP': 'Andhra Pradesh'}\n"
     ]
    }
   ],
   "source": [
    "states_key_list = ['WB', 'AP']\n",
    "states_val_list = ['West Bengal', 'Andhra Pradesh']\n",
    "states_dict     = dict(zip(states_key_list, states_val_list))\n",
    "print(states_dict)"
   ]
  },
  {
   "cell_type": "code",
   "execution_count": 1,
   "metadata": {},
   "outputs": [
    {
     "name": "stdout",
     "output_type": "stream",
     "text": [
      "{'WB': 'West Bengal', 'AP': 'Andhra Pradesh', 'MH': 'Maharashtra'}\n"
     ]
    }
   ],
   "source": [
    "# what happens if we have more keys than values\n",
    "states_key_tup  = ('WB', 'AP', 'MH', 'DL')\n",
    "states_val_list = ['West Bengal', 'Andhra Pradesh', 'Maharashtra']\n",
    "states_dict     = dict(zip(states_key_tup, states_val_list))\n",
    "print(states_dict)"
   ]
  },
  {
   "cell_type": "markdown",
   "metadata": {},
   "source": [
    "### .. 03.03 Accessing Dictionary Items\n",
    "\n",
    "#### .. 03.03.01 Passing key as index to the dictionary"
   ]
  },
  {
   "cell_type": "code",
   "execution_count": 2,
   "metadata": {},
   "outputs": [
    {
     "data": {
      "text/plain": [
       "'Achilles'"
      ]
     },
     "execution_count": 2,
     "metadata": {},
     "output_type": "execute_result"
    }
   ],
   "source": [
    "student = {'Name': 'Achilles', 'Class': 'Python Skills', 'Course': 'Python'}\n",
    "student['Name']"
   ]
  },
  {
   "cell_type": "markdown",
   "metadata": {},
   "source": [
    "#### .. 03.03.02 get(key [, default])"
   ]
  },
  {
   "cell_type": "code",
   "execution_count": 6,
   "metadata": {},
   "outputs": [
    {
     "name": "stdout",
     "output_type": "stream",
     "text": [
      "Location:  Not Found\n"
     ]
    }
   ],
   "source": [
    "# If key is in Dictionary, it will return the value else return the \n",
    "# default.. in this case default = \"Not Found\"\n",
    "#print(\"Course:   \", student.get('Course'  , 'Not Found'))\n",
    "# This will print Not Found since there is not key 'Location'\n",
    "print(\"Location: \", student.get('Location', 'Not Found'))"
   ]
  },
  {
   "cell_type": "code",
   "execution_count": 5,
   "metadata": {},
   "outputs": [
    {
     "name": "stdout",
     "output_type": "stream",
     "text": [
      "Course:    Python\n"
     ]
    }
   ],
   "source": [
    "print(\"Course:   \", student.get('Course'  , 'Not Found'))"
   ]
  },
  {
   "cell_type": "markdown",
   "metadata": {},
   "source": [
    "### .. 03.04 Updating Dictionary:\n",
    "\n",
    "The dictionary can be updated by adding a new entry or a new key-value pair, modifying existing entry and/ or deleting an entry.\n",
    "\n",
    "#### .. 03.04.01 Passing key as index and assigning value"
   ]
  },
  {
   "cell_type": "code",
   "execution_count": 7,
   "metadata": {},
   "outputs": [
    {
     "data": {
      "text/plain": [
       "{'Name': 'Achilles',\n",
       " 'Class': 'Python Skills',\n",
       " 'Course': 'Python',\n",
       " 'Degree': 'Data Science Certification',\n",
       " 'Location': 'Kolkata'}"
      ]
     },
     "execution_count": 7,
     "metadata": {},
     "output_type": "execute_result"
    }
   ],
   "source": [
    "student = {'Name': 'Achilles', 'Class': 'Python Skills', 'Course': 'Python'}\n",
    "student['Degree']   = 'Data Science Certification'\n",
    "student['Location'] = 'Kolkata'\n",
    "student"
   ]
  },
  {
   "cell_type": "markdown",
   "metadata": {},
   "source": [
    "#### .. 03.04.02 setdefault( )\n",
    "\n",
    "In python, the value (of a key-value pair) is mutable. However at times you might not want to overwrite the key-value pair if it already exists. \n",
    "You can achieve this by using `setdefault()` method. setdefault method returns a value if a key is present. Otherwise it inserts a key with the specified value and returns the value"
   ]
  },
  {
   "cell_type": "code",
   "execution_count": 8,
   "metadata": {},
   "outputs": [
    {
     "data": {
      "text/plain": [
       "'Data Science Certification'"
      ]
     },
     "execution_count": 8,
     "metadata": {},
     "output_type": "execute_result"
    }
   ],
   "source": [
    "student = {'Name': 'Achilles', 'Class': 'Python Skills', 'Course': 'Python'}\n",
    "# This will add the 'Degree:Masters' key value pair since it doesn't exist\n",
    "# and return the value added\n",
    "student.setdefault('Degree', 'Data Science Certification')"
   ]
  },
  {
   "cell_type": "code",
   "execution_count": 9,
   "metadata": {},
   "outputs": [
    {
     "data": {
      "text/plain": [
       "'Python Skills'"
      ]
     },
     "execution_count": 9,
     "metadata": {},
     "output_type": "execute_result"
    }
   ],
   "source": [
    "# This will return the existing value for key = \"Class\"\n",
    "student.setdefault('Class','Data Analysis')"
   ]
  },
  {
   "cell_type": "code",
   "execution_count": 10,
   "metadata": {},
   "outputs": [
    {
     "name": "stdout",
     "output_type": "stream",
     "text": [
      "{'Name': 'Achilles', 'Class': 'Python Skills', 'Course': 'Python', 'Degree': 'Data Science Certification'}\n"
     ]
    }
   ],
   "source": [
    "print(student)"
   ]
  },
  {
   "cell_type": "markdown",
   "metadata": {},
   "source": [
    "#### .. 03.04.03 update( )\n",
    "\n",
    "The update method adds (joins) the two dictionary together."
   ]
  },
  {
   "cell_type": "code",
   "execution_count": 11,
   "metadata": {},
   "outputs": [
    {
     "data": {
      "text/plain": [
       "{'WB': 'West Bengal',\n",
       " 'AP': 'Andhra Pradesh',\n",
       " 'MH': 'Maharashtra',\n",
       " 'DL': 'Delhi'}"
      ]
     },
     "execution_count": 11,
     "metadata": {},
     "output_type": "execute_result"
    }
   ],
   "source": [
    "states_dict = {'WB': 'West Bengal', 'AP': 'Andhra Pradesh'}\n",
    "states_dict2 = {'MH': 'Maharashtra', 'DL': 'Delhi'}\n",
    "states_dict.update(states_dict2)\n",
    "states_dict"
   ]
  },
  {
   "cell_type": "markdown",
   "metadata": {},
   "source": [
    "### .. 03.05 Removing elements from Dictionary\n",
    "\n",
    "#### .. 03.05.01 pop( )\n",
    "\n",
    "Pop() method removes the key-value pair based on the key passed as an argument. It returns the value that is being 'popped' from the dictionary"
   ]
  },
  {
   "cell_type": "code",
   "execution_count": 12,
   "metadata": {},
   "outputs": [
    {
     "data": {
      "text/plain": [
       "'West Bengal'"
      ]
     },
     "execution_count": 12,
     "metadata": {},
     "output_type": "execute_result"
    }
   ],
   "source": [
    "states_dict = {'WB': 'West Bengal', 'MH': 'Maharashtra', 'DL': 'Delhi', 'AP': 'Andhra Pradesh'}\n",
    "states_dict.pop('WB')"
   ]
  },
  {
   "cell_type": "code",
   "execution_count": 13,
   "metadata": {},
   "outputs": [
    {
     "data": {
      "text/plain": [
       "{'MH': 'Maharashtra', 'DL': 'Delhi', 'AP': 'Andhra Pradesh'}"
      ]
     },
     "execution_count": 13,
     "metadata": {},
     "output_type": "execute_result"
    }
   ],
   "source": [
    "states_dict"
   ]
  },
  {
   "cell_type": "markdown",
   "metadata": {},
   "source": [
    "#### .. 03.05.02 del()\n",
    "del() method can be used to perform the above operation and also can be used to remove an entire dictionary. It does not return anything."
   ]
  },
  {
   "cell_type": "code",
   "execution_count": 14,
   "metadata": {},
   "outputs": [
    {
     "data": {
      "text/plain": [
       "{'MH': 'Maharashtra', 'DL': 'Delhi', 'AP': 'Andhra Pradesh'}"
      ]
     },
     "execution_count": 14,
     "metadata": {},
     "output_type": "execute_result"
    }
   ],
   "source": [
    "states_dict = {'WB': 'West Bengal', 'MH': 'Maharashtra', 'DL': 'Delhi', 'AP': 'Andhra Pradesh'}\n",
    "del states_dict['WB']\n",
    "states_dict"
   ]
  },
  {
   "cell_type": "code",
   "execution_count": 15,
   "metadata": {},
   "outputs": [
    {
     "ename": "NameError",
     "evalue": "name 'states_dict' is not defined",
     "output_type": "error",
     "traceback": [
      "\u001b[1;31m---------------------------------------------------------------------------\u001b[0m",
      "\u001b[1;31mNameError\u001b[0m                                 Traceback (most recent call last)",
      "\u001b[1;32m<ipython-input-15-5d79a8aa268a>\u001b[0m in \u001b[0;36m<module>\u001b[1;34m()\u001b[0m\n\u001b[0;32m      1\u001b[0m \u001b[1;31m# delete the whole dictionary\u001b[0m\u001b[1;33m\u001b[0m\u001b[1;33m\u001b[0m\u001b[0m\n\u001b[0;32m      2\u001b[0m \u001b[1;32mdel\u001b[0m \u001b[0mstates_dict\u001b[0m             \u001b[1;31m#its first deleted , so value to print\u001b[0m\u001b[1;33m\u001b[0m\u001b[0m\n\u001b[1;32m----> 3\u001b[1;33m \u001b[0mprint\u001b[0m\u001b[1;33m(\u001b[0m\u001b[0mstates_dict\u001b[0m\u001b[1;33m)\u001b[0m\u001b[1;33m\u001b[0m\u001b[0m\n\u001b[0m",
      "\u001b[1;31mNameError\u001b[0m: name 'states_dict' is not defined"
     ]
    }
   ],
   "source": [
    "# delete the whole dictionary\n",
    "del states_dict             #its first deleted , so value to print\n",
    "print(states_dict)"
   ]
  },
  {
   "cell_type": "markdown",
   "metadata": {},
   "source": [
    "#### .. 03.05.03 clear( )\n",
    "\n",
    "clear method clears all items from the dictionary but does not delete the dictionary"
   ]
  },
  {
   "cell_type": "markdown",
   "metadata": {},
   "source": []
  },
  {
   "cell_type": "code",
   "execution_count": 16,
   "metadata": {},
   "outputs": [
    {
     "data": {
      "text/plain": [
       "{}"
      ]
     },
     "execution_count": 16,
     "metadata": {},
     "output_type": "execute_result"
    }
   ],
   "source": [
    "states_dict = {'MH': 'Maharashtra', 'DL': 'Delhi', 'AP': 'Andhra Pradesh'}\n",
    "states_dict.clear()\n",
    "states_dict"
   ]
  },
  {
   "cell_type": "markdown",
   "metadata": {},
   "source": [
    "### .. 03.06 Traversing a Dictionary\n",
    "\n",
    "#### .. 03.06.01 for loop:\n",
    "\n",
    "A dictionary can be traversed using for loops."
   ]
  },
  {
   "cell_type": "code",
   "execution_count": 17,
   "metadata": {},
   "outputs": [
    {
     "name": "stdout",
     "output_type": "stream",
     "text": [
      "WB: West Bengal\n",
      "MH: Maharashtra\n",
      "DL: Delhi\n",
      "AP: Andhra Pradesh\n"
     ]
    }
   ],
   "source": [
    "states_dict = {'WB': 'West Bengal', 'MH': 'Maharashtra', 'DL': 'Delhi', 'AP': 'Andhra Pradesh'}\n",
    "for k in states_dict:\n",
    "    print(\"{key}: {val}\".format(key=k, val=states_dict[k]))"
   ]
  },
  {
   "cell_type": "code",
   "execution_count": 18,
   "metadata": {},
   "outputs": [
    {
     "name": "stdout",
     "output_type": "stream",
     "text": [
      "WB: West Bengal\n",
      "MH: Maharashtra\n",
      "DL: Delhi\n",
      "AP: Andhra Pradesh\n"
     ]
    }
   ],
   "source": [
    " # We will see items() method in next sub- topic\n",
    "for k, v in states_dict.items():\n",
    "    print(': '.join((k, v)))"
   ]
  },
  {
   "cell_type": "markdown",
   "metadata": {},
   "source": [
    "> Check the print statements in above two examples."
   ]
  },
  {
   "cell_type": "markdown",
   "metadata": {},
   "source": [
    "#### .. 03.06.02 keys( ) , values( ) and items( )\n",
    "\n",
    "The keys() method returns a list of keys in dictionary. The values() method returns a list of all the values and items() returns a list of all key-value tuples.\n",
    "\n",
    "> - For python2 users: The above methods will directly return a list (note: a `list`!). \n",
    "- For python3 users: The above methods return dict_keys, dict_values and dict_items respectively which are basically `view` objects (note: `view`!). \n",
    "    - view objects are faster and require small and fixed amount of memory and processor time. (python2 equivalent of these are `viewkeys()`, `viewvalues()` and `viewitems()`).\n",
    "    - `views` are *dynamic view* of the dictionary which shows the contents of the dictionary even after it changes. They offer features that differ from those of lists: a list of keys contain a copy of the dictionary keys at a given point in time, while a view is dynamic and is much faster to obtain, as it does not have to copy any data (keys or values) in order to be created.\n",
    "    - These `views` can be converted to lists by passing them to list constructor. e.g. `list(dict_keys)`. This technique will also work for python2 users.\n",
    "- Python2 users: wherever you see `.keys()` or `.items()` or `.values()` you can also use `.viewkeys()`, `.viewitems()` and `.viewvalues()` respectively. These will return the `dict_keys`, `dict_items` and `dict_values`."
   ]
  },
  {
   "cell_type": "code",
   "execution_count": 19,
   "metadata": {},
   "outputs": [
    {
     "data": {
      "text/plain": [
       "['WB', 'MH', 'DL', 'AP']"
      ]
     },
     "execution_count": 19,
     "metadata": {},
     "output_type": "execute_result"
    }
   ],
   "source": [
    "states_dict = {'WB': 'West Bengal', 'MH': 'Maharashtra', \n",
    "               'DL': 'Delhi', 'AP': 'Andhra Pradesh'}\n",
    "list(states_dict.keys())"
   ]
  },
  {
   "cell_type": "code",
   "execution_count": 20,
   "metadata": {},
   "outputs": [
    {
     "data": {
      "text/plain": [
       "['West Bengal', 'Maharashtra', 'Delhi', 'Andhra Pradesh']"
      ]
     },
     "execution_count": 20,
     "metadata": {},
     "output_type": "execute_result"
    }
   ],
   "source": [
    "list(states_dict.values())"
   ]
  },
  {
   "cell_type": "code",
   "execution_count": 21,
   "metadata": {},
   "outputs": [
    {
     "data": {
      "text/plain": [
       "[('WB', 'West Bengal'),\n",
       " ('MH', 'Maharashtra'),\n",
       " ('DL', 'Delhi'),\n",
       " ('AP', 'Andhra Pradesh')]"
      ]
     },
     "execution_count": 21,
     "metadata": {},
     "output_type": "execute_result"
    }
   ],
   "source": [
    "list(states_dict.items())"
   ]
  },
  {
   "cell_type": "markdown",
   "metadata": {},
   "source": [
    "### 03.07 Sorting\n",
    "\n",
    "Dictionaries in python can be sorted using keys or values in ascending or descending order. First let us look as the built-in function sorted() and then the method specific to collections class.\n",
    "\n",
    "#### .. 03.07.01 sorted( )\n",
    "\n",
    "Sorted method returns a new list containing sorted items from iterable (in our case it is a dictionary). It can also take a boolean value for reverse, which, if set as True, will sort the iterable in descending order.\n",
    "\n",
    "In this example, we will sort the dictionary by keys."
   ]
  },
  {
   "cell_type": "code",
   "execution_count": 23,
   "metadata": {},
   "outputs": [
    {
     "name": "stdout",
     "output_type": "stream",
     "text": [
      "AP : Andhra Pradesh\n",
      "DL : Delhi\n",
      "MH : Maharashtra\n",
      "WB : West Bengal\n"
     ]
    }
   ],
   "source": [
    "states_dict = {'WB': 'West Bengal', 'MH': 'Maharashtra', \n",
    "               'DL': 'Delhi', 'AP': 'Andhra Pradesh'}\n",
    "sorted_keys = sorted(list(states_dict.keys()), reverse=False)\n",
    "for key in sorted_keys:\n",
    "    print('{} : {}'.format(key, states_dict[key]))"
   ]
  },
  {
   "cell_type": "markdown",
   "metadata": {},
   "source": [
    "#### .. 03.07.02 sort()\n",
    "This method sorts the list inplace!\n",
    "\n",
    "> Remember: Creating a copy of lists is expensive. You should always try to reduce the copies that you create."
   ]
  },
  {
   "cell_type": "code",
   "execution_count": 34,
   "metadata": {},
   "outputs": [
    {
     "name": "stdout",
     "output_type": "stream",
     "text": [
      "AP : Andhra Pradesh\n",
      "DL : Delhi\n",
      "MH : Maharashtra\n",
      "WB : West Bengal\n"
     ]
    }
   ],
   "source": [
    "states_dict = {'WB': 'West Bengal', 'MH': 'Maharashtra', \n",
    "               'DL': 'Delhi', 'AP': 'Andhra Pradesh'}\n",
    "k = list(states_dict.keys())\n",
    "k.sort(reverse=False)\n",
    "for key in k:\n",
    "    print('{key} : {val}'.format(key=key, val=states_dict[key]))"
   ]
  },
  {
   "cell_type": "markdown",
   "metadata": {},
   "source": [
    "*Remember, If you have any difficulty using any function or method in Jupyter notebook, type the function or method name followed by a '?' or `shift + Tab` and it will print the docstring/ help manual for you.*"
   ]
  },
  {
   "cell_type": "markdown",
   "metadata": {},
   "source": [
    "## 03 - 04 Functions\n",
    "Imagine that you have to open a file, read the contents of the file and close it. Pretty trivial, right? Now imagine that you have to read ten files, print their output or perform some computation on the contents and then close it. Now you don't want to sit there and type file i/o operations for every file. What if there are over 500 files? \n",
    "\n",
    "This is where the functions come in. A function is a block of organized and reusable code in a program that performs a specific task which can be incorporated into a larger program or reused by passing different set of parameters. \n",
    "\n",
    "The advantages of using functions are:\n",
    "- Allowing code reuse.\n",
    "- Reducing code duplication.\n",
    "- Improving readability while reducing the complexity of the code.\n",
    "\n",
    "There are two basic types of functions: \n",
    "- Built-in functions \n",
    "- User defined functions. \n",
    "\n",
    "We have been using built-in functions for quite some time without actually understanding how a function works. This is the beauty of python. According to Guido van Rossum, all objects in python are first class citizens. Meaning all the objects (like function, strings, integers, etc) can be assigned to variables, placed in lists, stored in dictionaries, passed as arguments and so forth. We have been doing this the whole time, right? Now lets see how you can create your own functions and call them in your code.\n",
    "\n",
    "### 03.04.01 Defining Functions\n",
    "\n",
    "A function is defined using the `def` keyword followed by the name of the function. The parameters or the arguments should be placed within the parentheses followed by the function name. The code block within every function starts with a colon and should be indented."
   ]
  },
  {
   "cell_type": "code",
   "execution_count": 35,
   "metadata": {},
   "outputs": [
    {
     "name": "stdout",
     "output_type": "stream",
     "text": [
      "4 * 5 = 20\n"
     ]
    }
   ],
   "source": [
    "def mul(a, b):\n",
    "    return('{} * {} = {}'.format(a, b, a*b))\n",
    "    \n",
    "print(mul(4, 5))"
   ]
  },
  {
   "cell_type": "markdown",
   "metadata": {},
   "source": [
    "In the above code we have used a keyword return. A function may or may not have a return value. The job of return is just to return the expression/ object to the the calling function. "
   ]
  },
  {
   "cell_type": "markdown",
   "metadata": {},
   "source": [
    "### 03.04.02 Function Arguments\n",
    "\n",
    "A function can be called by using following types of formal arguments\n",
    "\n",
    "- Required arguments\n",
    "- Keyword arguments\n",
    "- Default arguments\n",
    "- Variable-length arguments\n",
    "\n",
    "#### .. 04.02.01 Required Arguments:\n",
    "\n",
    "Required arguments are passed to a function in correct positional order. The number of arguments being passed should be equal to the number or arguments expected by the function that is defined. Let's take a look at the example:"
   ]
  },
  {
   "cell_type": "code",
   "execution_count": 38,
   "metadata": {},
   "outputs": [],
   "source": [
    "# Lame example\n",
    "def info(name, sem):\n",
    "    print('My name is: ',name)\n",
    "    print('This is the Year: ',int(sem))"
   ]
  },
  {
   "cell_type": "code",
   "execution_count": 39,
   "metadata": {},
   "outputs": [
    {
     "name": "stdout",
     "output_type": "stream",
     "text": [
      "My name is:  Achilles\n",
      "This is the Year:  2018\n"
     ]
    }
   ],
   "source": [
    "info('Achilles', 2018)"
   ]
  },
  {
   "cell_type": "code",
   "execution_count": null,
   "metadata": {},
   "outputs": [],
   "source": [
    "# What if we change the order in which we are passing the arguments?\n",
    "info(2018, 'Achilles')"
   ]
  },
  {
   "cell_type": "markdown",
   "metadata": {},
   "source": [
    "> We'll learn about how to prevent such errors from breaking our code in our next module on Exception Handling\n",
    "\n",
    "#### .. 04.02.02 Keyword Arguments:\n",
    "\n",
    "Keyword arguments are related to the function calls. When you use keyword arguments in a function call, the caller identifies the arguments by the parameter name. This allows you to skip the arguments or place them out of order because python's interpreter will be able to match the values with parameters. Let's modify the way we are calling the above function."
   ]
  },
  {
   "cell_type": "code",
   "execution_count": 40,
   "metadata": {},
   "outputs": [],
   "source": [
    "def info(name, year=2018):\n",
    "    print('My name is: ',name)\n",
    "    print('This is the Year: ',int(year))"
   ]
  },
  {
   "cell_type": "code",
   "execution_count": 41,
   "metadata": {},
   "outputs": [
    {
     "name": "stdout",
     "output_type": "stream",
     "text": [
      "My name is:  Achilles\n",
      "This is the Year:  2018\n"
     ]
    }
   ],
   "source": [
    "# The order of the parameter does not matter.\n",
    "info(year=2018, name='Achilles')"
   ]
  },
  {
   "cell_type": "code",
   "execution_count": 42,
   "metadata": {},
   "outputs": [
    {
     "name": "stdout",
     "output_type": "stream",
     "text": [
      "My name is:  Achilles\n",
      "This is the Year:  2018\n"
     ]
    }
   ],
   "source": [
    "# Not providing second argument.\n",
    "info('Achilles')"
   ]
  },
  {
   "cell_type": "markdown",
   "metadata": {},
   "source": [
    "#### .. 04.02.03 Variable Length Arguments: \n",
    "\n",
    "At some point, you may need to process the function for more than the arguments that you specified when you defined the function. These arguments can be of variable length and are not named in the function definition, unlike required and default arguments. So how do you handle this?"
   ]
  },
  {
   "cell_type": "code",
   "execution_count": 96,
   "metadata": {},
   "outputs": [],
   "source": [
    "def check(A, *B):\n",
    "    print('Name of course: ', *A)\n",
    "    print('Name of students in the course:')\n",
    "    for b in B:\n",
    "        print(*b, sep='\\n')"
   ]
  },
  {
   "cell_type": "code",
   "execution_count": 97,
   "metadata": {},
   "outputs": [],
   "source": [
    "course = ['Python']\n",
    "names = ['Saha', 'Rohit', 'Raj', 'Anup', 'Achilles', 'Sayan', 'Ansar', 'Deep', 'Joy', 'Dutta', 'Abhishek']"
   ]
  },
  {
   "cell_type": "code",
   "execution_count": 98,
   "metadata": {},
   "outputs": [
    {
     "name": "stdout",
     "output_type": "stream",
     "text": [
      "Name of course:  Python\n",
      "Name of students in the course:\n",
      "Saha\n",
      "Rohit\n",
      "Raj\n",
      "Anup\n",
      "Achilles\n",
      "Sayan\n",
      "Ansar\n",
      "Deep\n",
      "Joy\n",
      "Dutta\n",
      "Abhishek\n"
     ]
    }
   ],
   "source": [
    "check(course, names)"
   ]
  },
  {
   "cell_type": "markdown",
   "metadata": {},
   "source": [
    "An asterisk (`*`) is placed before the variable name that holds the values of all non keyword variable arguments. This tuple remains empty if no additional arguments are specified during the function call. \n",
    "\n",
    "### 03.04.03 Anonymous Functions\n",
    "\n",
    "Anonymous functions do not have a name! They are not declared in the standard manner (using the `def` keyword). To create an anonymous function you use `lambda` keyword. They are part of the functional paradigm incorporated in python.\n",
    "\n",
    "- Lambda forms can take any number of arguments but they return just one value in the form of an expression. They cannot contain commands or multiple expressions. \n",
    "- Lambda functions have their own local namespace (just like regular functions) and cannot access variables other than those in their parameter list or those in the global namespace.\n",
    "- Lambda function cannot be a direct call to print function."
   ]
  },
  {
   "cell_type": "code",
   "execution_count": 99,
   "metadata": {},
   "outputs": [],
   "source": [
    "mul = lambda a, b: a*b"
   ]
  },
  {
   "cell_type": "code",
   "execution_count": 100,
   "metadata": {},
   "outputs": [
    {
     "name": "stdout",
     "output_type": "stream",
     "text": [
      "20\n"
     ]
    }
   ],
   "source": [
    "print(mul(4, 5))"
   ]
  },
  {
   "cell_type": "markdown",
   "metadata": {},
   "source": [
    "### 03.04.04 Map function\n",
    "**Syntax:** \n",
    "\n",
    "`map(function, iterable)`\n",
    "\n",
    "As the name suggests, `map` applies the `function` to every element in the `iterable`. "
   ]
  },
  {
   "cell_type": "code",
   "execution_count": 101,
   "metadata": {},
   "outputs": [],
   "source": [
    "numbers = range(1, 10)\n",
    "#numbers = 0,1,2..9 \n",
    "def square(num):\n",
    "    return num**2"
   ]
  },
  {
   "cell_type": "code",
   "execution_count": 103,
   "metadata": {},
   "outputs": [
    {
     "data": {
      "text/plain": [
       "[1, 4, 9, 16, 25, 36, 49, 64, 81]"
      ]
     },
     "execution_count": 103,
     "metadata": {},
     "output_type": "execute_result"
    }
   ],
   "source": [
    "list(map(square, numbers))\n",
    "# The equivalent of this function is:\n",
    "# result = []\n",
    "# for i in range(1, 10):\n",
    "#     result.append(i**2)"
   ]
  },
  {
   "cell_type": "markdown",
   "metadata": {},
   "source": [
    "Even better, we can write the whole thing in a single line"
   ]
  },
  {
   "cell_type": "code",
   "execution_count": 104,
   "metadata": {},
   "outputs": [
    {
     "data": {
      "text/plain": [
       "[1, 4, 9, 16, 25, 36, 49, 64, 81]"
      ]
     },
     "execution_count": 104,
     "metadata": {},
     "output_type": "execute_result"
    }
   ],
   "source": [
    "list(map(lambda x: x**2, range(1, 10)))"
   ]
  },
  {
   "cell_type": "markdown",
   "metadata": {},
   "source": [
    "### 03.04.05 Filter function\n",
    "**Syntax:** \n",
    "\n",
    "`filter(function, iterable)`\n",
    "\n",
    "Just like map, `filter` applies the function to every element of the `iterable` but instead of returning the output of function, it returns the `list` of elements for which the function returns `True`"
   ]
  },
  {
   "cell_type": "code",
   "execution_count": 106,
   "metadata": {},
   "outputs": [
    {
     "data": {
      "text/plain": [
       "[1, 0, 1, 0, 1, 0, 1, 0, 1]"
      ]
     },
     "execution_count": 106,
     "metadata": {},
     "output_type": "execute_result"
    }
   ],
   "source": [
    "# Return all values for which %2 is non zero.. (List of all odd numbers, right?)\n",
    "list(map(lambda x: x%2, range(1, 10)))"
   ]
  },
  {
   "cell_type": "code",
   "execution_count": 107,
   "metadata": {},
   "outputs": [
    {
     "data": {
      "text/plain": [
       "[1, 3, 5, 7, 9]"
      ]
     },
     "execution_count": 107,
     "metadata": {},
     "output_type": "execute_result"
    }
   ],
   "source": [
    "list(filter(lambda x: x%2, range(1, 10)))     #it's the diff of map & filter\n"
   ]
  },
  {
   "cell_type": "markdown",
   "metadata": {},
   "source": [
    "## 03 - 05 Exception Handling\n",
    "An exception is a python object that represents an error. It is an event, which occurs during the execution of a program that disrupts the normal flow of the program's instructions. When such a situation occurs and if python is not able to cope with it, it raises and exception. We have been seeing errors like TypeError and NameError or IndentationError throughout our tutorial which caused our application or that code to stop the execution. To prevent this from happening, we have to handle such exceptions.\n",
    "Following is a hierarchy for built-in exceptions in python:\n",
    "\n",
    "```\n",
    "BaseException\n",
    " +-- SystemExit\n",
    " +-- KeyboardInterrupt\n",
    " +-- GeneratorExit\n",
    " +-- Exception\n",
    "      +-- StopIteration\n",
    "      +-- StandardError\n",
    "      |    +-- BufferError\n",
    "      |    +-- ArithmeticError\n",
    "      |    |    +-- FloatingPointError\n",
    "      |    |    +-- OverflowError\n",
    "      |    |    +-- ZeroDivisionError\n",
    "      |    +-- AssertionError\n",
    "      |    +-- AttributeError\n",
    "      |    +-- EnvironmentError\n",
    "      |    |    +-- IOError\n",
    "      |    |    +-- OSError\n",
    "      |    |         +-- WindowsError (Windows)\n",
    "      |    |         +-- VMSError (VMS)\n",
    "      |    +-- EOFError\n",
    "      |    +-- ImportError\n",
    "      |    +-- LookupError\n",
    "      |    |    +-- IndexError\n",
    "      |    |    +-- KeyError\n",
    "      |    +-- MemoryError\n",
    "      |    +-- NameError\n",
    "      |    |    +-- UnboundLocalError\n",
    "      |    +-- ReferenceError\n",
    "      |    +-- RuntimeError\n",
    "      |    |    +-- NotImplementedError\n",
    "      |    +-- SyntaxError\n",
    "      |    |    +-- IndentationError\n",
    "      |    |         +-- TabError\n",
    "      |    +-- SystemError\n",
    "      |    +-- TypeError\n",
    "      |    +-- ValueError\n",
    "      |         +-- UnicodeError\n",
    "      |              +-- UnicodeDecodeError\n",
    "      |              +-- UnicodeEncodeError\n",
    "      |              +-- UnicodeTranslateError\n",
    "      +-- Warning\n",
    "           +-- DeprecationWarning\n",
    "           +-- PendingDeprecationWarning\n",
    "           +-- RuntimeWarning\n",
    "           +-- SyntaxWarning\n",
    "           +-- UserWarning\n",
    "           +-- FutureWarning\n",
    "       +-- ImportWarning\n",
    "       +-- UnicodeWarning\n",
    "       +-- BytesWarning\n",
    "```\n",
    "\n",
    "Let's take a look at an example"
   ]
  },
  {
   "cell_type": "code",
   "execution_count": 108,
   "metadata": {},
   "outputs": [
    {
     "ename": "ZeroDivisionError",
     "evalue": "division by zero",
     "output_type": "error",
     "traceback": [
      "\u001b[1;31m---------------------------------------------------------------------------\u001b[0m",
      "\u001b[1;31mZeroDivisionError\u001b[0m                         Traceback (most recent call last)",
      "\u001b[1;32m<ipython-input-108-bc757c3fda29>\u001b[0m in \u001b[0;36m<module>\u001b[1;34m()\u001b[0m\n\u001b[1;32m----> 1\u001b[1;33m \u001b[1;36m1\u001b[0m \u001b[1;33m/\u001b[0m \u001b[1;36m0\u001b[0m\u001b[1;33m\u001b[0m\u001b[0m\n\u001b[0m",
      "\u001b[1;31mZeroDivisionError\u001b[0m: division by zero"
     ]
    }
   ],
   "source": [
    "1 / 0"
   ]
  },
  {
   "cell_type": "markdown",
   "metadata": {},
   "source": [
    "Quite straightforward example where we are trying to divide a number by 0. Python raises a `ZeroDivisionError` and the execution halts. There are basically two ways to handle this error. \n",
    "First way -- Check and make sure that the divisor is not zero. This is left as an exercise for the students. The other way to handle the error is by using `try.. catch` block where we place the code to be executed inside the try block and the exception to be handled in the except block."
   ]
  },
  {
   "cell_type": "code",
   "execution_count": 109,
   "metadata": {},
   "outputs": [
    {
     "name": "stdout",
     "output_type": "stream",
     "text": [
      "0.3333333333333333\n",
      "0.5\n",
      "1.0\n",
      "So, you're trying to divide by zero huh?\n",
      "-1.0\n",
      "-0.5\n"
     ]
    }
   ],
   "source": [
    "for i in range(3, -3, -1):\n",
    "    try:\n",
    "        print(1.0 / i)\n",
    "    except ZeroDivisionError:\n",
    "        print(\"So, you're trying to divide by zero huh?\")"
   ]
  },
  {
   "cell_type": "markdown",
   "metadata": {},
   "source": [
    "As observed from the above example, our execution continued even after we tried dividing 1.0 by zero.\n",
    "> Python2 users.. Check the division that is being performed. To obtain floating point answer, you have to convert any one of the operand to float\n",
    "\n",
    "> Python3 users.. you don't HAVE to do this. You can simply perform integer division and get floating point output\n",
    "\n",
    "### 03.05.01 Argument of an Exception\n",
    "\n",
    "An exception can have an argument, which is a value that gives additional information about the problem that caused the exception. The contents of argument vary by exception."
   ]
  },
  {
   "cell_type": "code",
   "execution_count": 110,
   "metadata": {},
   "outputs": [
    {
     "name": "stdout",
     "output_type": "stream",
     "text": [
      "0.3333333333333333\n",
      "0.5\n",
      "1.0\n",
      "Zero Division Error:  float division by zero\n",
      "-1.0\n",
      "-0.5\n"
     ]
    }
   ],
   "source": [
    "for i in range(3, -3, -1):\n",
    "    try:\n",
    "        print(1.0 / i)\n",
    "    except ZeroDivisionError as err:\n",
    "        print('Zero Division Error: ', str(err.args[0]))"
   ]
  },
  {
   "cell_type": "markdown",
   "metadata": {},
   "source": [
    "### 02.05.02 Hierarchy of Exceptions\n",
    "\n",
    "The exceptions are organized in an hierarchy as observed from above tree. This means that we can have multiple exceptions handled by the except block."
   ]
  },
  {
   "cell_type": "code",
   "execution_count": 111,
   "metadata": {},
   "outputs": [
    {
     "name": "stdout",
     "output_type": "stream",
     "text": [
      "-1.0\n",
      "So, you're trying to divide by zero huh?\n",
      "1.0\n",
      "0.5\n",
      "0.3333333333333333\n",
      "0.25\n",
      "0.2\n"
     ]
    }
   ],
   "source": [
    "# time module has a sleep method which will help slow down the execution of loop\n",
    "import time \n",
    "i = -2\n",
    "while i < 5:\n",
    "    i = i + 1\n",
    "    try:\n",
    "        print(1.0 / i)\n",
    "        # This will halt the code for 2 seconds\n",
    "        time.sleep(2)\n",
    "    except KeyboardInterrupt:\n",
    "        # Lets raise the exception that we just caught!\n",
    "        raise KeyboardInterrupt('Ctrl C pressed')\n",
    "    except ZeroDivisionError:\n",
    "        print(\"So, you're trying to divide by zero huh?\")"
   ]
  },
  {
   "cell_type": "markdown",
   "metadata": {},
   "source": [
    "After starting the execution of the code, wait for few seconds and then press `i` key twice on your keyboard and you should get the above error (another way is to click on `Kernel -> Interrupt` ). The new thing that we can observe in this code is that we have used a keyword `raise`. This helps in raising a particular exception and as a parameter to the exception you can pass the string that you want to print. \n",
    "\n",
    "The raise statement does two things: it creates an exception object, and immediately leaves the expected program execution sequence to search the enclosing `try` statements for a matching `except` clause. The effect of `raise` statement is to either divert execution in a matching `except` suite, or to stop the program (if no proper exception handling was performed).\n",
    "\n",
    "Now lets see the above example with hierarchy in action:"
   ]
  },
  {
   "cell_type": "code",
   "execution_count": 112,
   "metadata": {},
   "outputs": [
    {
     "name": "stdout",
     "output_type": "stream",
     "text": [
      "-1.0\n",
      "Some Exception occurred..\n",
      "1.0\n",
      "0.5\n",
      "0.3333333333333333\n",
      "0.25\n",
      "0.2\n"
     ]
    }
   ],
   "source": [
    "import time\n",
    "i = -2\n",
    "while i < 5:\n",
    "    i = i + 1\n",
    "    try:\n",
    "        print(1.0 / i)\n",
    "        time.sleep(2)\n",
    "    except BaseException:\n",
    "        # Lets raise the exception that we just caught!\n",
    "        print('Some Exception occurred..')"
   ]
  },
  {
   "cell_type": "markdown",
   "metadata": {},
   "source": [
    "In the above example we can see that we did implement a handler (a very bad kind, I must say). If you check from the hierarchy list, you can observe that `KeyboardInterrupt` and `ArithmeticError`(which includes `ZeroDivideError`) are subclass of `BaseException` class. So since we implemented `BaseException` handler, all the errors under the base class are handled. \n",
    "\n",
    "Avoid raising a generic exception like we did in this example because you will not be able to understand what actually caused the exception and allows bugs to pass through. Instead use the most specific Exception constructor that semantically fits your issue.\n",
    "\n",
    "### 03.05.03 Finally\n",
    "\n",
    "`finally` keyword is a clause which contains the block of code that will always be executed regardless of whether there was any exception in the code or not. This is generally used to cleanup some resources in a program.. especially when using file I/O operations"
   ]
  },
  {
   "cell_type": "code",
   "execution_count": 1,
   "metadata": {},
   "outputs": [
    {
     "name": "stdout",
     "output_type": "stream",
     "text": [
      "Error Opening File\n"
     ]
    }
   ],
   "source": [
    "fhandler = None\n",
    "try:\n",
    "    # Open file in read-only mode. Try renaming file to test1.txt\n",
    "    fhandler = open('./Python_Studies/test.txt', 'r')\n",
    "    # Read all lines\n",
    "    print(fhandler.readlines())\n",
    "except IOError:\n",
    "    print('Error Opening File')\n",
    "finally:\n",
    "    # If the file was opened\n",
    "    if fhandler:\n",
    "        # Close the file\n",
    "        fhandler.close"
   ]
  },
  {
   "cell_type": "markdown",
   "metadata": {},
   "source": [
    "In the above example we can observe that we are trying to open a file and read its contents. If the file doesn't exist, it will raise an IOError exception. We are handling that, no worries. However once the file has been read, we need to close the file so that other processes or other functions in our code can access it. (Remember: when accessing/ modifying a file, the file is locked to that process which is performing the I/O operation on it. Unless the lock is released, no other process will be able to modify it.. ) \n",
    "\n",
    "To make sure we release the resources, in the `finally` block we are checking if fhandler is not null and closing it. "
   ]
  },
  {
   "cell_type": "markdown",
   "metadata": {},
   "source": [
    "## 03 - 06 File I/O\n",
    "Before we jump in to file I/O functions, lets first look at some basic I/O functions that are available to use in Python. \n",
    "In Python, there are three basic I/O connections, Standard Input, Standard Output and Standard Error. As the name suggests, Standard Input is the data that goes to the program through the keyboard. keyboard being the standard input. Standard output is the terminal console, unless redirected..(guess where?!!) and Standard error is the stream where the programs write their error messages which is again to the terminal unless redirected.\n",
    "\n",
    "### 03.06.01 Standard Input, Output and Error:\n",
    "\n",
    "The `input( )` function reads one line from the standard input and returns it as a string."
   ]
  },
  {
   "cell_type": "code",
   "execution_count": 113,
   "metadata": {},
   "outputs": [
    {
     "name": "stdout",
     "output_type": "stream",
     "text": [
      "Enter your name: ansar\n",
      "Hello ansar\n"
     ]
    }
   ],
   "source": [
    "name = input(\"Enter your name: \")\n",
    "print(\"Hello {name}\".format(name=name))"
   ]
  },
  {
   "cell_type": "code",
   "execution_count": 114,
   "metadata": {},
   "outputs": [
    {
     "name": "stdout",
     "output_type": "stream",
     "text": [
      "Enter something: 2\n",
      "You entered: 2\n"
     ]
    }
   ],
   "source": [
    "# Lets use list comprehension in the input\n",
    "some_val = input(\"Enter something: \")\n",
    "print(\"You entered: {}\".format(some_val))"
   ]
  },
  {
   "cell_type": "code",
   "execution_count": 2,
   "metadata": {},
   "outputs": [
    {
     "ename": "SyntaxError",
     "evalue": "invalid syntax (<ipython-input-2-1489e9165bc5>, line 1)",
     "output_type": "error",
     "traceback": [
      "\u001b[1;36m  File \u001b[1;32m\"<ipython-input-2-1489e9165bc5>\"\u001b[1;36m, line \u001b[1;32m1\u001b[0m\n\u001b[1;33m    Python2 users would have observed the output as `You entered: [0, 2, 4, 6, 8]`\u001b[0m\n\u001b[1;37m                ^\u001b[0m\n\u001b[1;31mSyntaxError\u001b[0m\u001b[1;31m:\u001b[0m invalid syntax\n"
     ]
    }
   ],
   "source": [
    "Python2 users would have observed the output as `You entered: [0, 2, 4, 6, 8]`\n",
    "and Python3 users would have observed the output as `[x for x in range(10) if x%2 == 0]`\n",
    "\n",
    "Until Python3.2 there used to be two methods for accepting input -- `raw_input` and `input` the behavior that python3 users are seeing is the actual behavior of `raw_input`. However after Python3.2, it was decided to drop the `input` method.\n",
    "> For the sake of staying on topic, we cannot discuss more on this.. but for the curious souls.. head here: https://www.python.org/dev/peps/pep-3111/\n",
    "\n",
    "We saw the Standard Error in the Exception Handling module. \n",
    "\n",
    "We've also been using Standard Output since `module 1`, I guess.. using the `print` function (for python3) or `print` statement (for python2), right?"
   ]
  },
  {
   "cell_type": "markdown",
   "metadata": {},
   "source": [
    "### 03.06.02 File I/O\n",
    "Until now you have been reading and writing to the standard input. Lets now perform the same function to the files. Now we will see how we can read and write to the files.\n",
    "\n",
    "#### .. 06.02.01 Opening Files: \n",
    "Files can be opened using python's built-in `open()` function. This function creates a file object which is used for performing different operations on the file. It will become much clear when we look at a complete example. For now, just remember that we need to create a file object before performing any file I/O and try to remember the syntax.\n",
    "`fhandler = open(file_name, access mode, encoding)`\n",
    "`file_name`: The file name that you would like to perform your I/O operations on.\n",
    "encoding: Encoding tells python what encoding scheme to use to convert the stream of bytes to text. \n",
    "`access_mode`: This is the mode which determines if the file is to opened as read only,read-write, write only etc modes. The ways in which a file can be opened are mentioned below:\n",
    "\n",
    "|access_mode | Its Function|\n",
    "|:------|------------:|\n",
    "|r\t|Opens a file as read only|\n",
    "|rb\t|Opens a file as read only in binary format|\n",
    "|r+\t|Opens a file for reading and writing|\n",
    "|rb+\t|Opens a file for reading and writing in binary format|\n",
    "|w\t|Opens a file for writing only|\n",
    "|wb\t|Opens a file for writing only in binary format|\n",
    "|w+\t|Opens a file for both reading and writing|\n",
    "|wb+\t|Opens a file for writing and reading in binary format|\n",
    "|a\t|Opens a file for appending|\n",
    "|ab\t|Opens a file for appending in binary|\n",
    "|a+\t|Opens a file for appending and reading|\n",
    "|ab+\t|Opens a file for appending and reading in binary format|\n",
    "\n",
    "#### .. 06.02.02 Reading and Writing\n",
    "Once we have created a file object we can perform many operations on the file object which, like all objects, has methods to take care of nitty gritty details and perform the operations on the file. Before we jump into the functions, lets take a look at a complete File I/O example.\n",
    "\n"
   ]
  },
  {
   "cell_type": "code",
   "execution_count": 3,
   "metadata": {},
   "outputs": [],
   "source": [
    "try:\n",
    "    fhandler = open('test.txt', 'w') \n",
    "    fhandler.write('Hello World')\n",
    "except IOError as ex:\n",
    "    print(\"Error performing I/O operations on the file: \",ex)\n",
    "finally:\n",
    "    if fhandler:\n",
    "        fhandler.close()"
   ]
  },
  {
   "cell_type": "markdown",
   "metadata": {},
   "source": [
    "> If the above code ran without any exception, then it should have created a file test.txt (and if it existed before, it will overwrite it because of access_mode as `w`)\n",
    "\n",
    "Now before we proceed ahead, don't you think the total number of lines that we wrote to achieve just a small objective (of writing a string to file) is too much effort? Let's look at an alternative way of writing to a file"
   ]
  },
  {
   "cell_type": "code",
   "execution_count": 4,
   "metadata": {},
   "outputs": [],
   "source": [
    "try:\n",
    "    with open('test.txt', 'w') as fhandler:\n",
    "        fhandler.write('Hello World')\n",
    "except IOError as ex:\n",
    "    print(\"Error performing I/O operations on the file: \",ex)"
   ]
  },
  {
   "cell_type": "markdown",
   "metadata": {},
   "source": [
    "Much better, eh?\n",
    "\n",
    "In fact, It is good practice to use the `with` keyword when dealing with file objects. This has the advantage that the file is properly closed (`fhandler.close()`) after its suite finishes, even if an exception is raised on the way. It is also much shorter than writing equivalent `try-except-finally` blocks.\n",
    "\n",
    "Want another reason for using `with` statement? Ok, if you want to open multiple files together, you can do that using with statement by simply separating the different file handlers by a comma.. \n",
    "something like this\n",
    "```\n",
    "with open('test0.txt', 'w') as fh0, open('test1.txt', 'w') as fh1 ...\n",
    "```\n",
    "\n",
    "So what is `with` statement? Putting it very very simply.. `with` has `__enter__()` and `__exit__()` functions where stuff like opening and closing the file handler can take place. The `with` statement guarantees that if the `__enter__()` method returns without an error, then `__exit__()` will always be called.\n",
    "\n",
    "> We cannot discuss more about `with` statement here as it can take up a whole module but again for curious minds out there, read this `pep`: https://www.python.org/dev/peps/pep-0343/\n",
    "\n",
    "Alright, coming back to our discussion on File I/O,  lets now look at some of the functions that you may end up using.\n",
    "\n",
    "##### .. 02.01 file_object.close()\n",
    "\n",
    "This method will close the file that we have currently open. You should always call this method once you are done performing I/O operations on the file using the file object unless you are using `with` statement. `with` statement already does that for you.\n",
    "\n",
    "##### .. 02.02 file_object.mode\n",
    "\n",
    "This is a read-only attribute that is the value of the mode string used in the open call that created the file_object\n",
    "\n",
    "##### .. 02.03 file_object.readline([size])\n",
    "\n",
    "This method reads strings from the file till it reaches new line character ( `\\n` ) if the `size` parameter is empty. If an integer is provided as size parameter, then this method returns string of length size.\n",
    "\n",
    "##### .. 02.04 file_object.readlines([size])\n",
    "\n",
    "This method basically calls the `readline()` method till it reaches the end of file.\n",
    "\n",
    "##### .. 02.05 file_object.seek(pos, how=0)\n",
    "\n",
    "Sets the file_object's current position to the signed integer byte offset by pos from the reference point. The how parameter, which is 0 by default, indicates the reference point. `how`=1 is the reference of current position and `how`=2 is the reference of the end of the file.\n",
    "\n",
    "##### .. 02.06 file_object.tell()\n",
    "\n",
    "This method tells the current file position when you are reading from or writing to a file.\n",
    "\n",
    "##### .. 02.07 file_object.truncate([size])\n",
    "\n",
    "This method truncates the file to be at most of size size.  If you don't mention the size it takes the size from `tell()` method as the new size.\n",
    "\n",
    "##### .. 02.08 file_object.write(str)\n",
    "\n",
    "Writes the bytes of string str to the file.\n",
    "\n",
    "##### .. 02.09 file_object.writelines(lst)\n",
    "\n",
    "Writes sequence of strings to file. No new line is added automatically."
   ]
  },
  {
   "cell_type": "code",
   "execution_count": null,
   "metadata": {},
   "outputs": [],
   "source": [
    "try:\n",
    "    with open('test.txt', 'r+') as fhandler:\n",
    "        print(fhandler.readline())\n",
    "        fhandler.writelines(['.', 'This is', ' Python'])\n",
    "        # Go to the starting of file\n",
    "        fhandler.seek(0)\n",
    "        # Print the content of file\n",
    "        print(fhandler.readlines())\n",
    "        fhandler.truncate(20)\n",
    "        fhandler.seek(0)\n",
    "        print('After truncate: ',fhandler.readlines())\n",
    "except IOError as ex:\n",
    "    print(\"Error performing I/O operations on the file: \",ex)"
   ]
  },
  {
   "cell_type": "markdown",
   "metadata": {},
   "source": [
    "Great! So now we opened the file, read its contents, added multiple strings, truncated and closed it! This covers pretty much everything that you will need when you are working with almost any kind of file that has some text."
   ]
  },
  {
   "cell_type": "markdown",
   "metadata": {},
   "source": [
    "### 03.06.03 CSV File I/O\n",
    "In the above examples, we saw how to perform read-write operations on a file. This is generally used for files that have multiple lines of strings. However if you have data like this:\n",
    "\n",
    "||||\n",
    "|:--|:--|:--|\n",
    "|Data1\t|Data2\t|Data3|\n",
    "|Example1\t|Example2\t|Example3|\n",
    "\n",
    "It is stored in a file with this format:\n",
    "```\n",
    "Data1, Data2, Data3\n",
    "Example01, Example02, Example03\n",
    "Example11, Example12, Example13\n",
    "```\n",
    "\n",
    "As can be seen in the above example, each row is a new line, and each column is separated with a comma. Many online services allow its users to export tabular data from the website into a CSV file. These files can then be opened and viewed offline using a Spreadsheet program such as Google Sheets, Numbers or Microsoft Excel.\n",
    "\n",
    "#### So why do we need such CSV files? \n",
    "There are two primary reasons for the existence of this format:\n",
    "\n",
    "- CSV are plain-text files which makes them easy to store and read from\n",
    "- CSV files are stored as sequence of human readable characters, thus making it easy for humans to interpret the data without requiring any format conversion.\n",
    "\n",
    "CSV is a delimited text file that uses a comma to separate values (many implementations of CSV import/export tools allow other separators to be used). Simple CSV implementations may prohibit field values that contain a comma or other special characters such as newlines. More sophisticated CSV implementations permit them, often by requiring \" (double quote) characters around values that contain reserved characters (such as commas, double quotes, or less commonly, newlines). Embedded double quote characters may then be represented by a pair of consecutive double quotes, or by prefixing an escape character such as a backslash (for example in Sybase Central). The name \"CSV\" indicates the use of the comma to separate data fields. Nevertheless, the term \"CSV\" is widely used to refer a large family of formats, which differ in many ways. Some implementations allow or require single or double quotation marks around some or all fields; and some reserve the very first record as a header containing a list of field names. An official standard for the CSV file format does not exist.\n",
    "\n",
    "Download a Sample\\* CSV file from [`HERE`](./sample_datasets/sample_names.csv 'Sample CSV') and save it in your current folder location. \n",
    "\n",
    ">Disclaimer: The data generated is completely random using a third party website [`https://www.fakenamegenerator.com`](https://www.fakenamegenerator.com 'FakeName Generator')\n",
    "\n",
    "#### .. 06.03.01 Reading CSV files\n",
    "\n",
    "`reader()` can be used to create an object that is used to read the data from a csv file. The reader can be used as an iterator to process the rows of the file in order. Lets take a look at an example:"
   ]
  },
  {
   "cell_type": "code",
   "execution_count": 5,
   "metadata": {},
   "outputs": [
    {
     "name": "stdout",
     "output_type": "stream",
     "text": [
      "Error performing I/O operations on the file:  [Errno 2] No such file or directory: './sample_datasets/sample_names.csv'\n",
      "[]\n"
     ]
    }
   ],
   "source": [
    "import csv\n",
    "row = []\n",
    "try:\n",
    "    with open('./sample_datasets/sample_names.csv', 'r') as fh:\n",
    "        reader = csv.reader(fh)\n",
    "        for info in reader:\n",
    "            row.append(info)\n",
    "except IOError as ex:\n",
    "    print(\"Error performing I/O operations on the file: \",ex)\n",
    "\n",
    "print(row[0:10])"
   ]
  },
  {
   "cell_type": "markdown",
   "metadata": {},
   "source": [
    "`reader()` is a method available in csv package so the first line basically imports the csv package. The `reader()` method takes sequence or an iterable file object, and returns an iterator. As the csv file is being read, each row of the input data is converted to a list of strings. The parser handles the line breaks embedded within the strings which is why using row is not always the output that you might get when taking a line input from file. \n",
    "\n",
    "#### .. 06.03.02 Writing CSV files\n",
    "\n",
    "Writing csv files is just as easy as reading them. To write to a csv file, we can use `writer()` method to create an object for writing and then iterate over the rows using csv's `writerow()` method to write it."
   ]
  },
  {
   "cell_type": "code",
   "execution_count": null,
   "metadata": {},
   "outputs": [],
   "source": [
    "import csv\n",
    "try:\n",
    "    with open('test.csv', 'w') as fh:\n",
    "        writer = csv.writer(fh)\n",
    "        for num in range(10):\n",
    "            writer.writerow((num, num**1, num**2))\n",
    "except IOError as ex:\n",
    "    print(\"Error performing I/O operations on the file: \",ex)"
   ]
  },
  {
   "cell_type": "markdown",
   "metadata": {},
   "source": [
    "Now try opening the file just like we did before and see the contents\n",
    "\n",
    "#### .. 06.03.03 DictReader\n",
    "\n",
    "In addition to working with sequences or data, the `csv` module includes classes for working with rows as dictionaries so that the fields can be named. The `DictReader` and `DictWriter` classes translate rows to dictionaries instead of lists. Keys for the dictionary can be passed in, or inferred from the first row in the input."
   ]
  },
  {
   "cell_type": "code",
   "execution_count": null,
   "metadata": {},
   "outputs": [],
   "source": [
    "import csv\n",
    "row = []\n",
    "try:\n",
    "    with open('./sample_datasets/sample_names.csv', 'r') as fh:\n",
    "        reader = csv.DictReader(fh)\n",
    "        for info in reader:\n",
    "            row.append(info)\n",
    "except IOError as ex:\n",
    "    print(\"Error performing I/O operations on the file: \",ex)\n",
    "\n",
    "print(row[0:10])"
   ]
  },
  {
   "cell_type": "markdown",
   "metadata": {},
   "source": [
    "> Python 2 users should see a `list of dictionaries` and Python3 users should see a list of `OrderedDict`. The `OrderedDict`, as the name suggests, will preserve the order in which the entries were inserted. (You can guess why!)\n",
    "\n",
    "#### .. 06.03.03 DictWriter\n",
    "\n",
    "Similar to DictReader, we also have DictWriter which needs to be given a list of field names so it know how to order the columns in the output file. "
   ]
  },
  {
   "cell_type": "code",
   "execution_count": null,
   "metadata": {},
   "outputs": [],
   "source": [
    "import csv\n",
    "try:\n",
    "    fieldnm = ('Title1', 'Title2', 'Title3')\n",
    "    with open('test_dict.csv', 'w') as fh:\n",
    "        writer = csv.DictWriter(fh, fieldnames=fieldnm)\n",
    "        headers = dict((hdr, hdr) for hdr in fieldnm)\n",
    "        for num in range(10):\n",
    "            writer.writerow({'Title1':num, 'Title2':num+1, 'Title3':num+2})\n",
    "except IOError as ex:\n",
    "    print(\"Error performing I/O operations on the file: \",ex)"
   ]
  },
  {
   "cell_type": "markdown",
   "metadata": {},
   "source": [
    "The above DictReader and DictWriter techniques are good when the filesize (or the number of columns) is not very big. When the row numbers starts scaling up, the list that is created by the reader() method starts growing in memory and makes the process very very slow. \n",
    "\n",
    "We will generally be dealing with the files that have over a million row entries and this method is not the most efficient way of dealing with such files. To handle such 'Big Data', we will study python packages like `Numpy` and `Pandas` in next few modules."
   ]
  }
 ],
 "metadata": {
  "kernelspec": {
   "display_name": "Python 3",
   "language": "python",
   "name": "python3"
  },
  "language_info": {
   "codemirror_mode": {
    "name": "ipython",
    "version": 3
   },
   "file_extension": ".py",
   "mimetype": "text/x-python",
   "name": "python",
   "nbconvert_exporter": "python",
   "pygments_lexer": "ipython3",
   "version": "3.7.2rc1"
  }
 },
 "nbformat": 4,
 "nbformat_minor": 2
}
