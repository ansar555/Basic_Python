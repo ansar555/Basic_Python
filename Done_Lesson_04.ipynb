{
 "cells": [
  {
   "cell_type": "markdown",
   "metadata": {},
   "source": [
    "# Very Important before Starting this lesson\n",
    "## YouTube Channel - Mohit Sanjay Sharma\n",
    "### Professor - Federica Bianco\n",
    "#### Videos to see before starting the following lesson:\n",
    "- Linear Algebra\n",
    "- Linear Algebra 2 "
   ]
  },
  {
   "cell_type": "markdown",
   "metadata": {},
   "source": [
    "## 04 - 00 Introduction to Numpy\n",
    "`Numpy` (Numerical Python) is an opensource library for performing scientific computation in python. Numpy let's you work with arrays and matrices in a natural way unlike lists where you have to loop through individual elements to perform any numerical operation. \n",
    "> This would probably be a good time to refresh your memory on what are arrays and matrices.. here is something that you need to know to get started\n",
    "> - Arrays are simply a collection of values of *same type* indexed by integers.\n",
    "> - Matrices are defined to be multi-dimensional array indexed by rows, columns and dimensions.\n",
    "\n",
    "The methods in numpy are designed with high performance in mind. Numpy arrays are stored more efficiently than an equivalent data structure in python such as lists and arrays. This especially pays off when you are using really large arrays (i.e large data sets). Major portion of numpy is written in C and thus the computations are faster than the pure python code. Numpy is one of the part of the scientific stack in Python. It actually used to be a part of major scientific package called SciPy but was later separated and now scipy uses numpy for almost all of its major tasks.\n",
    "\n",
    "Numpy is a very huge topic and we will barely scratch the surface in this bootcamp but it will be enough to get you all up to speed for starting with your Master's courseworks. \n",
    "\n",
    "In this module (and sub-modules) we will be looking at ways for effectively loading, storing, and manipulating in-memory. We will be dealing with some of the datasets comprising of wide range of sources such as images, sound clips, text data etc. but to reach that stage, lets first get a working understanding of `Numpy Arrays`.\n",
    "\n",
    "Numpy is a third party module that has been installed for you on CUSP CDF or if you followed the installation instructions for your machine, you should have it. Before we can begin using Numpy, we have to first `import` it in python. You must remember from the File IO module where we imported built-in csv module. Similarly, to import numpy module, you can type"
   ]
  },
  {
   "cell_type": "code",
   "execution_count": 7,
   "metadata": {},
   "outputs": [
    {
     "name": "stdout",
     "output_type": "stream",
     "text": [
      "1.15.1\n"
     ]
    }
   ],
   "source": [
    "import numpy as np\n",
    "print(np.__version__)"
   ]
  },
  {
   "cell_type": "markdown",
   "metadata": {},
   "source": [
    "We use `import numpy as np` so that we wont have to type `numpy` everytime we want to use the module, instead we can use `np`.\n",
    "\n",
    "A gentle reminder to use tab-completion(`<TAB>`) and `?` to explore and access the documentation for anything that you are looking for.\n",
    "\n",
    "Example:\n",
    "```ipython\n",
    "In [1]: np.<TAB>\n",
    "```\n",
    "or \n",
    "```ipython\n",
    "In [2]: np.__version__?\n",
    "```"
   ]
  },
  {
   "cell_type": "code",
   "execution_count": 10,
   "metadata": {},
   "outputs": [
    {
     "ename": "SyntaxError",
     "evalue": "invalid syntax (<ipython-input-10-df0eca0bfa5c>, line 1)",
     "output_type": "error",
     "traceback": [
      "\u001b[1;36m  File \u001b[1;32m\"<ipython-input-10-df0eca0bfa5c>\"\u001b[1;36m, line \u001b[1;32m1\u001b[0m\n\u001b[1;33m    np.\u001b[0m\n\u001b[1;37m       ^\u001b[0m\n\u001b[1;31mSyntaxError\u001b[0m\u001b[1;31m:\u001b[0m invalid syntax\n"
     ]
    }
   ],
   "source": [
    "np."
   ]
  },
  {
   "cell_type": "markdown",
   "metadata": {},
   "source": [
    "## 04 - 01 Numpy Array Basics\n",
    "\n",
    "Numpy's main object is the homogeneous multidimensional array. Numpy's array class is called `ndarray`. It is a table of numbers, indexed by a `tuple` of positive integers. In numpy dimensions are called as axes. The number of axes is known as rank. \n",
    "\n",
    "Numpy arrays are similar to Python lists with few differences such as: \n",
    " - All the elements in a numpy array must be of same datatype. \n",
    " - You can't change the size of a numpy array (atleast not without making a full copy.. we'll see this a little later)\n",
    " - Numpy arrays are easy to construct and to manipulate.\n",
    " - Numpy arrays support “vectorized” operations like elementwise addition and multiplication without having to run a `for` loop explicitly in python.\n",
    " \n",
    "We'll cover basic array manipulations here:\n",
    "- *Attributes of arrays*: Determining the size, shape, memory consumption, and data types of arrays\n",
    "- *Creating arrays*: Different ways of creating the Arrays\n",
    "- *Indexing of arrays*: Getting and setting the value of individual array elements\n",
    "- *Slicing of arrays*: Getting and setting smaller subarrays within a larger array\n",
    "- *Reshaping of arrays*: Changing the shape of a given array\n",
    "- *Joining and splitting of arrays*: Combining multiple arrays into one, and splitting one array into many\n",
    "\n",
    "### 04 - 01.01 Attributes of Arrays"
   ]
  },
  {
   "cell_type": "code",
   "execution_count": 11,
   "metadata": {},
   "outputs": [
    {
     "name": "stdout",
     "output_type": "stream",
     "text": [
      "Type:  <class 'numpy.ndarray'>\n",
      "Shape:  (4,)\n",
      "Dimension:  1\n",
      "Itemsize:  8\n",
      "Size:  4\n"
     ]
    }
   ],
   "source": [
    "from __future__ import print_function\n",
    "import numpy as np\n",
    "# Single dimensional Array from a list\n",
    "arr = np.array([1, 2, 3, 4], dtype=float)\n",
    "print('Type: ',type(arr))\n",
    "print('Shape: ',arr.shape)\n",
    "print('Dimension: ',arr.ndim)\n",
    "print('Itemsize: ',arr.itemsize)\n",
    "print('Size: ',arr.size)"
   ]
  },
  {
   "cell_type": "markdown",
   "metadata": {},
   "source": [
    "The above is one of the many ways in which a numpy array can be created. The `np.array()` in above case takes two arguments: the `list` to be converted to numpy array and the `datatype` (`dtype`) of **every** member of the list. \n",
    "\n",
    "There are many different attributes of `ndarray` class and by now you should be able to understand how to access those attributes and get help for them (Hint: `<TAB>` completion). \n",
    "\n",
    "Let's understand at some of the attributes that we printer above.\n",
    "\n",
    "##### ndarray.ndim\n",
    "It is the number of axes or dimensions of the array.\n",
    "\n",
    "##### ndarray.shape\n",
    "It is the dimension of the array. This is a tuple of integers indicating the size of the array in each dimension. For matrix with n rows and m columns, the shape will be (m, n). The shape attribute is thus a tuple. For single dimensional arrays, the second element of the tuple will be None (as it is on our case).\n",
    "\n",
    "##### ndarray.dtype\n",
    "It is an object describing the type of the elements in the array. Remember that all the elements need to be of same datatype in a numpy array. Additionally numpy provides its own int16, int32, float64 and so on.\n",
    "\n",
    "##### ndarray.itemsize\n",
    "The size in bytes of each element of the array. For example an array of elements of type float64 has itemsize of $\\frac{64}{8} = 8$ and one complex32 has item size of $\\frac{32}{8} = 4$.\n",
    "\n",
    "##### ndarray.data\n",
    "This is the buffer containing the actual elements of the array. Normally this attribute is not used as numpy offers many fancy indexing facilities.\n",
    "\n",
    "Let's take a look at another example:"
   ]
  },
  {
   "cell_type": "code",
   "execution_count": 12,
   "metadata": {},
   "outputs": [
    {
     "name": "stdout",
     "output_type": "stream",
     "text": [
      "Datatype:  <U32\n"
     ]
    }
   ],
   "source": [
    "# Elements have to be of same datatype\n",
    "arr = np.array([1, 2.0, \"ucsl\"])\n",
    "print(\"Datatype: \", arr.dtype)"
   ]
  },
  {
   "cell_type": "markdown",
   "metadata": {},
   "source": [
    "Since we did not pass the `dtype` parameter, Numpy saw that there are mixed types and it converts the datatype of all the elements to type `U`nicode`32` (or `S`tring`32` if you are using Python2). \n",
    "\n",
    "> To know all the datatypes supported by Numpy, you can type\n",
    "```ipython\n",
    "In [2]: np.typeDict\n",
    "```\n",
    "and check the output\n",
    "\n",
    "If we would've passed the `dtype` as `float` or anything other than a type of `string` or `unicode`, we would've recevied a value error. (Try it!)"
   ]
  },
  {
   "cell_type": "markdown",
   "metadata": {},
   "source": [
    "### 04 - 01.02 Creating Arrays\n",
    "There are many different ways in which a numpy array can be created. We saw one in the above example. Lets look at some other ways of creating arrays"
   ]
  },
  {
   "cell_type": "code",
   "execution_count": 13,
   "metadata": {},
   "outputs": [
    {
     "name": "stdout",
     "output_type": "stream",
     "text": [
      "arange() with float dtype: \n",
      " [0. 1. 2. 3. 4.]\n",
      "\n",
      " linspace(): \n",
      " [0. 2. 4. 6. 8.]\n",
      "\n",
      " ones(): \n",
      " [[1. 1. 1.]\n",
      " [1. 1. 1.]]\n",
      "\n",
      " zeros(): \n",
      " [[0. 0. 0.]\n",
      " [0. 0. 0.]]\n",
      "\n",
      " Empty: \n",
      " [[0.00000000e+000 0.00000000e+000 0.00000000e+000 0.00000000e+000]\n",
      " [0.00000000e+000 6.24498976e-321 2.11393051e-307 1.23712355e-311]]\n",
      "\n",
      " Ones_like(): \n",
      " [1. 1. 1. 1. 1.]\n",
      "\n",
      " Diagonal array: \n",
      " [[0. 0. 0. 0. 0.]\n",
      " [0. 1. 0. 0. 0.]\n",
      " [0. 0. 2. 0. 0.]\n",
      " [0. 0. 0. 3. 0.]\n",
      " [0. 0. 0. 0. 4.]]\n"
     ]
    }
   ],
   "source": [
    "arr1 = np.arange(5, dtype=float)\n",
    "print('arange() with float dtype: \\n',arr1)\n",
    "# Divide the range between start and stop in equal `num` intervals\n",
    "arr2 = np.linspace(0, 8, num=5)\n",
    "print('\\n linspace(): \\n', arr2)\n",
    "arr3 = np.ones((2, 3), dtype=float)\n",
    "print ('\\n ones(): \\n',arr3)\n",
    "arr4 = np.zeros((2,3), dtype=float)\n",
    "print ('\\n zeros(): \\n',arr4)\n",
    "arr5 = np.empty((2, 4))\n",
    "print('\\n Empty: \\n',arr5)  # Your output may be different..\n",
    "arr6 = np.ones_like(arr1)\n",
    "print('\\n Ones_like(): \\n',arr6)\n",
    "arr7 = np.diag(arr1)\n",
    "print('\\n Diagonal array: \\n',arr7)"
   ]
  },
  {
   "cell_type": "markdown",
   "metadata": {},
   "source": [
    "#### np.arange()\n",
    "\n",
    "is the same as the range function that we used previously. This method will however return a numpy array.\n",
    "\n",
    "#### np.zeros() and np.ones()\n",
    "\n",
    "as the name suggests, generate new arrays of specified dimensions filled with these values. These are most commonly used functions to create new arrays.\n",
    "\n",
    "#### np.empty()\n",
    "\n",
    "This function creates an array whose initial content is random and depends on the state of the memory. If not specified, the data type of the created array is float64\n",
    "\n",
    "#### np.ones_like()  , np.zeros_like() and np.empty_like()\n",
    "\n",
    "These functions create a new array with the same dimensions and type as the existing one but with the values as either ones or zeros or random value.\n",
    "\n",
    "#### np.diag()\n",
    "\n",
    "As the name suggests, this will construct a diagonal array\n",
    "\n",
    "Let's take a look at an example for creating multi-dimensional array"
   ]
  },
  {
   "cell_type": "code",
   "execution_count": 14,
   "metadata": {},
   "outputs": [
    {
     "name": "stdout",
     "output_type": "stream",
     "text": [
      "2D array: \n",
      "[[ 0  1  2  3  4  5  6  7  8]\n",
      " [ 9 10 11 12 13 14 15 16 17]\n",
      " [18 19 20 21 22 23 24 25 26]]\n",
      "\n",
      "3D array: \n",
      "[[[ 0  1  2]\n",
      "  [ 3  4  5]\n",
      "  [ 6  7  8]]\n",
      "\n",
      " [[ 9 10 11]\n",
      "  [12 13 14]\n",
      "  [15 16 17]]\n",
      "\n",
      " [[18 19 20]\n",
      "  [21 22 23]\n",
      "  [24 25 26]]]\n",
      "\n"
     ]
    }
   ],
   "source": [
    "arr2d = np.arange(27).reshape(3, 9)\n",
    "print(\"2D array: \\n{}\\n\".format(arr2d))\n",
    "arr3d = np.arange(27).reshape(3,3,3)\n",
    "print(\"3D array: \\n{}\\n\".format(arr3d))"
   ]
  },
  {
   "cell_type": "markdown",
   "metadata": {},
   "source": [
    "Numpy displays the arrays in a similar way to nested lists but with the following layout:\n",
    "- the last axis is printed from left to right\n",
    "- the second to last axis is printed from top to bottom.\n",
    "- the rest rest are also printed from top to bottom with each slice separated from the next by an empty line\n",
    "Simply put, single dimensional array are printed as rows, bi dimensional and multi-dimensional are printed as matrices and as lists of matrices respectively.\n",
    "\n",
    "> We will look at reshaping of arrays later in this module"
   ]
  },
  {
   "cell_type": "markdown",
   "metadata": {},
   "source": [
    "### 04 - 01.03 Array Indexing\n",
    "Numpy arrays are indexed in the same way as lists are so accessing the elements for single dimensional array is equivalent to accessing elements in a list"
   ]
  },
  {
   "cell_type": "code",
   "execution_count": 15,
   "metadata": {},
   "outputs": [
    {
     "name": "stdout",
     "output_type": "stream",
     "text": [
      "7\n"
     ]
    }
   ],
   "source": [
    "arr = np.arange(3, 10)\n",
    "print(arr[4])"
   ]
  },
  {
   "cell_type": "code",
   "execution_count": 16,
   "metadata": {},
   "outputs": [
    {
     "name": "stdout",
     "output_type": "stream",
     "text": [
      "[3 4 5 6 7 8 9]\n"
     ]
    }
   ],
   "source": [
    "arr = np.arange(3, 10)\n",
    "print(arr)"
   ]
  },
  {
   "cell_type": "code",
   "execution_count": 17,
   "metadata": {},
   "outputs": [
    {
     "name": "stdout",
     "output_type": "stream",
     "text": [
      "9\n"
     ]
    }
   ],
   "source": [
    "arr = np.arange(3, 10)\n",
    "print(arr[-1])"
   ]
  },
  {
   "cell_type": "markdown",
   "metadata": {},
   "source": [
    "You can also use negative indexing like we did for lists"
   ]
  },
  {
   "cell_type": "code",
   "execution_count": 18,
   "metadata": {},
   "outputs": [
    {
     "name": "stdout",
     "output_type": "stream",
     "text": [
      "7\n"
     ]
    }
   ],
   "source": [
    "print(arr[-3])"
   ]
  },
  {
   "cell_type": "markdown",
   "metadata": {},
   "source": [
    "Multi-dimensional array items can be accessed using comma-separated tuple of indexes"
   ]
  },
  {
   "cell_type": "code",
   "execution_count": 19,
   "metadata": {},
   "outputs": [
    {
     "name": "stdout",
     "output_type": "stream",
     "text": [
      "3D array: \n",
      " [[[ 0  1  2]\n",
      "  [ 3  4  5]\n",
      "  [ 6  7  8]]\n",
      "\n",
      " [[ 9 10 11]\n",
      "  [12 13 14]\n",
      "  [15 16 17]]\n",
      "\n",
      " [[18 19 20]\n",
      "  [21 22 23]\n",
      "  [24 25 26]]]\n",
      "\n",
      "Element at 2, 1, 0 is: 21\n"
     ]
    }
   ],
   "source": [
    "arr3d = np.arange(27).reshape(3,3,3)\n",
    "dim, row, col = 2, 1, 0\n",
    "print(\"3D array: \\n\", arr3d, end=\"\\n\\n\")\n",
    "print(\"Element at {dim}, {row}, {col} is: {val}\".format(dim=dim, \n",
    "                                                        row=row, \n",
    "                                                        col=col, \n",
    "                                                        val=arr3d[dim, row, col]))"
   ]
  },
  {
   "cell_type": "code",
   "execution_count": 54,
   "metadata": {},
   "outputs": [
    {
     "name": "stdout",
     "output_type": "stream",
     "text": [
      "2D array: \n",
      " [[ 0  1  2  3  4  5  6  7  8]\n",
      " [ 9 10 11 12 13 14 15 16 17]\n",
      " [18 19 20 21 22 23 24 25 26]]\n"
     ]
    }
   ],
   "source": [
    "arr_my = np.arange(27)\n",
    "#dim,row = 2,1\n",
    "print(\"2D array: \\n\",arr2d)\n"
   ]
  },
  {
   "cell_type": "code",
   "execution_count": 30,
   "metadata": {},
   "outputs": [
    {
     "name": "stdout",
     "output_type": "stream",
     "text": [
      "3D array: \n",
      " [[[ 0  1  2]\n",
      "  [ 3  4  5]\n",
      "  [ 6  7  8]]\n",
      "\n",
      " [[ 9 10 11]\n",
      "  [12 13 14]\n",
      "  [15 16 17]]\n",
      "\n",
      " [[18 19 20]\n",
      "  [21 22 23]\n",
      "  [24 25 26]]]\n"
     ]
    }
   ],
   "source": [
    "arr_my= np.arange(27)\n",
    "print(\"3D array: \\n\",arr3d)"
   ]
  },
  {
   "cell_type": "code",
   "execution_count": 31,
   "metadata": {},
   "outputs": [
    {
     "ename": "NameError",
     "evalue": "name 'arr3D' is not defined",
     "output_type": "error",
     "traceback": [
      "\u001b[1;31m---------------------------------------------------------------------------\u001b[0m",
      "\u001b[1;31mNameError\u001b[0m                                 Traceback (most recent call last)",
      "\u001b[1;32m<ipython-input-31-97c8ba8c7ea3>\u001b[0m in \u001b[0;36m<module>\u001b[1;34m()\u001b[0m\n\u001b[0;32m      1\u001b[0m \u001b[0marr_my\u001b[0m\u001b[1;33m=\u001b[0m \u001b[0mnp\u001b[0m\u001b[1;33m.\u001b[0m\u001b[0marange\u001b[0m\u001b[1;33m(\u001b[0m\u001b[1;36m27\u001b[0m\u001b[1;33m)\u001b[0m\u001b[1;33m\u001b[0m\u001b[0m\n\u001b[1;32m----> 2\u001b[1;33m \u001b[0mprint\u001b[0m\u001b[1;33m(\u001b[0m\u001b[1;34m\"3D array: \\n\"\u001b[0m\u001b[1;33m,\u001b[0m\u001b[0marr3D\u001b[0m\u001b[1;33m)\u001b[0m\u001b[1;33m\u001b[0m\u001b[0m\n\u001b[0m",
      "\u001b[1;31mNameError\u001b[0m: name 'arr3D' is not defined"
     ]
    }
   ],
   "source": [
    "arr_my= np.arange(27)\n",
    "print(\"3D array: \\n\",arr3D)   ### arr3d & arr3D not same."
   ]
  },
  {
   "cell_type": "markdown",
   "metadata": {},
   "source": [
    "### 04 - 01.04 Array Slicing\n",
    "Slicing extracts the portion of a sequence by specifying a lower and upper bound. The lower bound element is included, but the upper-bound element is not included in slicing. Just like lists, there is a third parameter step which means the strides to be taken between the elements. If any of these are unspecified, they default to the values `start=0, stop=size of dimension, step=1`. Each of these parameters are separated by colons (`:`)"
   ]
  },
  {
   "cell_type": "code",
   "execution_count": 63,
   "metadata": {},
   "outputs": [
    {
     "name": "stdout",
     "output_type": "stream",
     "text": [
      "Original Array: \n",
      " [0. 2. 4. 6. 8.]\n",
      "\n",
      "arr[:3]:  [0. 2. 4.]\n",
      "arr[-5:5:2]:  [0. 4. 8.]\n",
      "arr[::2]:  [0. 4. 8.]\n",
      "arr[::-1]:  [8. 6. 4. 2. 0.]\n",
      "arr[2::-2]:  [4. 0.]\n"
     ]
    }
   ],
   "source": [
    "arr = np.linspace(0, 8, num=5)\n",
    "print(\"Original Array: \\n\", arr, end=\"\\n\\n\")\n",
    "# let the slicings begin\n",
    "print(\"arr[:3]: \", arr[:3])\n",
    "print(\"arr[-5:5:2]: \", arr[-5:5:2])\n",
    "print(\"arr[::2]: \", arr[::2])\n",
    "# Reverse the elements\n",
    "print(\"arr[::-1]: \", arr[::-1])\n",
    "# Reverse every other array from index 2\n",
    "print(\"arr[2::-2]: \", arr[2::-2])"
   ]
  },
  {
   "cell_type": "code",
   "execution_count": 71,
   "metadata": {},
   "outputs": [
    {
     "name": "stdout",
     "output_type": "stream",
     "text": [
      "[ 0.  2.  4.  6.  8. 10. 12.]\n",
      "\n",
      "arr[:3]: \n",
      "  [0. 2. 4.]\n",
      "[ 0.  6. 12.]\n",
      "[2. 8.]\n",
      "[2. 8.]\n",
      "[ 4.  8. 12.]\n",
      "[12.  8.  4.  0.]\n"
     ]
    }
   ],
   "source": [
    "arr = np.linspace (0,12,num=7)\n",
    "print(arr,end=\"\\n\\n\")  # use \\n to remove ,\n",
    "#arr[:3]\n",
    "print(\"arr[:3]: \\n \" , arr[:3])\n",
    "print(arr[::3])\n",
    "print(arr[1::3])\n",
    "print(arr[1:6:3])\n",
    "print(arr[2::2])\n",
    "print(arr[6::-2])   #for reverse\n",
    "\n"
   ]
  },
  {
   "cell_type": "code",
   "execution_count": 76,
   "metadata": {},
   "outputs": [
    {
     "name": "stdout",
     "output_type": "stream",
     "text": [
      "[3 5 7]\n"
     ]
    }
   ],
   "source": [
    "arr = np.arange(11)\n",
    "arr\n",
    "print(arr[-8:8:2])"
   ]
  },
  {
   "cell_type": "markdown",
   "metadata": {},
   "source": [
    "For multi-dimensional array, we specify in rows, columns format."
   ]
  },
  {
   "cell_type": "code",
   "execution_count": 77,
   "metadata": {},
   "outputs": [
    {
     "name": "stdout",
     "output_type": "stream",
     "text": [
      "2D array: \n",
      " [[92 38 64 21]\n",
      " [ 4 86 74 33]\n",
      " [38 58 23  4]]\n",
      "\n",
      "first row, three columns: \n",
      " [[92 38 64]]\n",
      "\n",
      "first row, 3rd col:\n",
      " 64\n",
      "all rows, third column: \n",
      " [21 33  4]\n",
      "\n",
      "reversing rows and columns together: \n",
      " [[ 4 23 58 38]\n",
      " [33 74 86  4]\n",
      " [21 64 38 92]]\n",
      "\n"
     ]
    }
   ],
   "source": [
    "# Array of random integers between low and high of fixed size(mxn)\n",
    "arr = np.random.randint(low=0, high=100, size=(3,4))\n",
    "print(\"2D array: \\n\", arr, end=\"\\n\\n\")\n",
    "# first row, three columns\n",
    "print(\"first row, three columns: \\n\", arr[:1, :3], end=\"\\n\\n\")\n",
    "#first row, 3rd col\n",
    "print(\"first row, 3rd col:\\n\",arr[0][2])\n",
    "# all rows, third column\n",
    "print(\"all rows, third column: \\n\", arr[:, 3], end=\"\\n\\n\")\n",
    "# changing dimensions \n",
    "print(\"reversing rows and columns together: \\n\",\n",
    "     arr[::-1, ::-1], end=\"\\n\\n\")"
   ]
  },
  {
   "cell_type": "markdown",
   "metadata": {},
   "source": [
    "Slices are references to the original array in memory. Changing the values in a slice also changes the original array"
   ]
  },
  {
   "cell_type": "code",
   "execution_count": 73,
   "metadata": {},
   "outputs": [
    {
     "name": "stdout",
     "output_type": "stream",
     "text": [
      "arr1: \n",
      " [0 1 2 3 4]\n",
      "\n",
      "Sliced array: \n",
      " [3 4]\n",
      "\n",
      "Before changing, arr2[0]: \n",
      " 3\n",
      "\n",
      "After changing arr2[0], arr1: \n",
      " [ 0  1  2 99  4]\n"
     ]
    }
   ],
   "source": [
    "arr1 = np.arange(5)\n",
    "# slice arr1\n",
    "arr2 = arr1[3:5]\n",
    "print(\"arr1: \\n\", arr1, end=\"\\n\\n\")\n",
    "print(\"Sliced array: \\n\", arr2)\n",
    "print('\\nBefore changing, arr2[0]: \\n',arr2[0])\n",
    "# change value for 0th element of the slice\n",
    "arr2[0] = 99\n",
    "print('\\nAfter changing arr2[0], arr1: \\n',arr1)"
   ]
  },
  {
   "cell_type": "markdown",
   "metadata": {},
   "source": [
    "### 04 - 01.05 Reshaping Arrays\n",
    "We have been using `reshape` function to view a one dimensional array as a multi-dimensional array. This nifty method only works if your new array shape matches the size of the original array i.e `size = m x n`\n",
    "\n",
    "One can also row and column elements using `newaxis` method"
   ]
  },
  {
   "cell_type": "code",
   "execution_count": 92,
   "metadata": {},
   "outputs": [
    {
     "name": "stdout",
     "output_type": "stream",
     "text": [
      "Original Array: \n",
      " [67 74 31 23 38 40 56 38 46 80 50 82]\n",
      "\n",
      "Reshaped to 3 x 4: \n",
      " [[67 74 31 23]\n",
      " [38 40 56 38]\n",
      " [46 80 50 82]]\n",
      "\n",
      "Row vector : \n",
      " [[67 74 31 23 38 40 56 38 46 80 50 82]]\n",
      "\n",
      "Column vector : \n",
      " [[67]\n",
      " [74]\n",
      " [31]\n",
      " [23]\n",
      " [38]\n",
      " [40]\n",
      " [56]\n",
      " [38]\n",
      " [46]\n",
      " [80]\n",
      " [50]\n",
      " [82]]\n",
      "\n"
     ]
    }
   ],
   "source": [
    "arr = np.random.randint(low=0, high=100, size=12)\n",
    "print(\"Original Array: \\n\", arr, end=\"\\n\\n\")\n",
    "print(\"Reshaped to 3 x 4: \\n\", arr.reshape(3,4), end=\"\\n\\n\")\n",
    "print(\"Row vector : \\n\", arr[np.newaxis, :], end=\"\\n\\n\")\n",
    "print(\"Column vector : \\n\", arr[:, np.newaxis], end=\"\\n\\n\")"
   ]
  },
  {
   "cell_type": "code",
   "execution_count": 93,
   "metadata": {},
   "outputs": [
    {
     "name": "stdout",
     "output_type": "stream",
     "text": [
      "Original Array: \n",
      " [0 1 2 3 4 5 6 7 8]\n",
      "Reshaped to  3 x 3: \n",
      " [[0 1 2]\n",
      " [3 4 5]\n",
      " [6 7 8]]\n",
      "\n",
      "Row vector:\n",
      " [[0 1 2 3 4 5 6 7 8]]\n",
      "Column vector:\n",
      " [[0]\n",
      " [1]\n",
      " [2]\n",
      " [3]\n",
      " [4]\n",
      " [5]\n",
      " [6]\n",
      " [7]\n",
      " [8]]\n"
     ]
    }
   ],
   "source": [
    "arr = np.arange(9)\n",
    "print(\"Original Array: \\n\", arr, end=\"\\n\")\n",
    "print(\"Reshaped to  3 x 3: \\n\", arr.reshape(3,3),end=\"\\n\\n\")\n",
    "print(\"Row vector:\\n\",arr[np.newaxis,:],end=\"\\n\")\n",
    "print(\"Column vector:\\n\", arr[:,np.newaxis])"
   ]
  },
  {
   "cell_type": "markdown",
   "metadata": {},
   "source": [
    "### 04 - 01.06 Concatenating Arrays\n",
    "Just like Python Lists, you can concatenate two arrays using Numpy's `concatenate()`, `hstack()` and `vstack()` functions. \n",
    "\n",
    "However, you must remember that just like lists, when you combine a Numpy array, an actualy copy of both the arrays are made. If you created the two arrays separately, they are randomly scattered in memory, and there is no way to represent them as a `view` Numpy array. It is always advisible to know the size of array that you will be needing before-hand so that you can start with one big array, and have each of the small arrays be a `view` to the big array (you can leverage the power of slicing!)"
   ]
  },
  {
   "cell_type": "code",
   "execution_count": 94,
   "metadata": {},
   "outputs": [
    {
     "name": "stdout",
     "output_type": "stream",
     "text": [
      "Arr1: \n",
      "[0 1 2 3 4 5 6 7 8 9]\n",
      "\n",
      "Arr2: \n",
      "[10 11 12 13 14 15 16 17 18 19]\n",
      "\n",
      "Concatenated Array: \n",
      "[ 0  1  2  3  4  5  6  7  8  9 10 11 12 13 14 15 16 17 18 19]\n"
     ]
    }
   ],
   "source": [
    "# Creating two 1D arrays separately\n",
    "arr1 = np.arange(10)\n",
    "arr2 = np.arange(10, 20)\n",
    "arr3 = np.concatenate((arr1, arr2))\n",
    "print(\"Arr1: \\n{}\".format(arr1), end=\"\\n\\n\")\n",
    "print(\"Arr2: \\n{}\".format(arr2), end=\"\\n\\n\")\n",
    "print(\"Concatenated Array: \\n{}\".format(arr3))"
   ]
  },
  {
   "cell_type": "markdown",
   "metadata": {},
   "source": [
    "Concatenation of two multi-dimensional arrays, it is better to use the `hstack()` and `vstack()` for stacking against horizontal and vertical axis respectively."
   ]
  },
  {
   "cell_type": "code",
   "execution_count": 14,
   "metadata": {},
   "outputs": [
    {
     "name": "stdout",
     "output_type": "stream",
     "text": [
      "Arr1: \n",
      "[[2 8 1 9]\n",
      " [6 5 5 2]]\n",
      "\n",
      "Arr2: \n",
      "[[90 93 91 96]\n",
      " [97 90 96 99]]\n",
      "\n",
      "Horizontally Stacked Array: \n",
      "[[ 2  8  1  9 90 93 91 96]\n",
      " [ 6  5  5  2 97 90 96 99]]\n",
      "\n",
      "Vertically Stacked Array: \n",
      "[[ 2  8  1  9]\n",
      " [ 6  5  5  2]\n",
      " [90 93 91 96]\n",
      " [97 90 96 99]]\n",
      "\n"
     ]
    }
   ],
   "source": [
    "arr1 = np.random.randint(1, 10, 8).reshape(2, 4)\n",
    "arr2 = np.random.randint(90, 100, 8).reshape(2, 4)\n",
    "# stacking horizontally\n",
    "hs_arr = np.hstack((arr1, arr2))\n",
    "# stacking vertically\n",
    "vs_arr = np.vstack((arr1, arr2))\n",
    "print(\"Arr1: \\n{}\".format(arr1), end=\"\\n\\n\")\n",
    "print(\"Arr2: \\n{}\".format(arr2), end=\"\\n\\n\")\n",
    "print(\"Horizontally Stacked Array: \\n{}\".format(hs_arr), end=\"\\n\\n\")\n",
    "print(\"Vertically Stacked Array: \\n{}\".format(vs_arr), end=\"\\n\\n\")"
   ]
  },
  {
   "cell_type": "code",
   "execution_count": 98,
   "metadata": {},
   "outputs": [
    {
     "name": "stdout",
     "output_type": "stream",
     "text": [
      "The concatenate array :\n",
      " [[ 7  4  1  3]\n",
      " [ 4  9  4  7]\n",
      " [92 95 98 96]\n",
      " [92 92 90 97]]\n"
     ]
    }
   ],
   "source": [
    "arr1 = np.random.randint(1, 10, 8).reshape(2, 4)\n",
    "arr2 = np.random.randint(90, 100, 8).reshape(2, 4)\n",
    "arr3 = np.concatenate((arr1,arr2))\n",
    "print(\"The concatenate array :\\n {}\" .format(arr3))"
   ]
  },
  {
   "cell_type": "markdown",
   "metadata": {},
   "source": [
    "### 04 - 01.07 Splitting Arrays\n",
    "Just like concatenating multiple arrays into one, Numpy's `split()`, `hsplit()` and `vsplit()` allows splitting of one array into multiple smaller ones."
   ]
  },
  {
   "cell_type": "code",
   "execution_count": 105,
   "metadata": {},
   "outputs": [
    {
     "data": {
      "text/plain": [
       "[array([0, 1]),\n",
       " array([2, 3, 4, 5, 6, 7]),\n",
       " array([8, 9]),\n",
       " array([10, 11, 12, 13]),\n",
       " array([14, 15, 16, 17, 18, 19])]"
      ]
     },
     "execution_count": 105,
     "metadata": {},
     "output_type": "execute_result"
    }
   ],
   "source": [
    "arr1 = np.arange(20)\n",
    "np.split(arr1, (2, 8, 10, 14))"
   ]
  },
  {
   "cell_type": "code",
   "execution_count": 106,
   "metadata": {},
   "outputs": [
    {
     "data": {
      "text/plain": [
       "[array([0]),\n",
       " array([1, 2]),\n",
       " array([3, 4, 5, 6, 7, 8]),\n",
       " array([ 9, 10, 11, 12, 13]),\n",
       " array([14, 15, 16, 17, 18, 19])]"
      ]
     },
     "execution_count": 106,
     "metadata": {},
     "output_type": "execute_result"
    }
   ],
   "source": [
    "arr1 = np.arange(20)\n",
    "np.split(arr1, [1, 3, 9, 14])"
   ]
  },
  {
   "cell_type": "code",
   "execution_count": 113,
   "metadata": {},
   "outputs": [
    {
     "name": "stdout",
     "output_type": "stream",
     "text": [
      "Original array: [ 1  2  3  4  5  6  7  8  9 10 11 12 13 14]\n",
      "After splitting:\n",
      "[array([1, 2, 3, 4]), array([5, 6, 7, 8]), array([ 9, 10, 11, 12, 13, 14])]\n"
     ]
    }
   ],
   "source": [
    "x = np.arange(1, 15)    \n",
    "print(\"Original array:\",x)\n",
    "print(\"After splitting:\")\n",
    "print(np.split(x, [4, 8]))"
   ]
  },
  {
   "cell_type": "markdown",
   "metadata": {},
   "source": [
    "`np.split()` takes the array that we want to split as the first argument and as a second argument, it requires a list or tuple of the index of the elements at which we want to split the array. More the number of split-points, there will be one more subarray i.e `N` split-points, leads to `N + 1` subarrays.\n",
    "\n",
    "Similarly for multi-dimensional arrays, we can use `hsplit()` and `vsplit()`"
   ]
  },
  {
   "cell_type": "code",
   "execution_count": 140,
   "metadata": {},
   "outputs": [
    {
     "name": "stdout",
     "output_type": "stream",
     "text": [
      "Original Array: \n",
      "[[3 0 8]\n",
      " [4 2 8]\n",
      " [3 2 1]]\n",
      "\n",
      "First Split: \n",
      "[[3 0]\n",
      " [4 2]\n",
      " [3 2]]\n",
      "\n",
      "Remaining Split: \n",
      "[[8]\n",
      " [8]\n",
      " [1]]\n",
      "\n"
     ]
    }
   ],
   "source": [
    "arr2d = np.random.randint(0, 9, (3,3))\n",
    "print(\"Original Array: \\n{}\".format(arr2d), end=\"\\n\\n\")\n",
    " #split along horizontal axis\n",
    "arr1, arr2 = np.hsplit(arr2d, [2])\n",
    "print(\"First Split: \\n{}\".format(arr1), end=\"\\n\\n\")\n",
    "print(\"Remaining Split: \\n{}\".format(arr2), end=\"\\n\\n\")"
   ]
  },
  {
   "cell_type": "code",
   "execution_count": 142,
   "metadata": {},
   "outputs": [
    {
     "name": "stdout",
     "output_type": "stream",
     "text": [
      "Original Array: \n",
      "[[2 2 4]\n",
      " [8 3 1]\n",
      " [1 3 8]]\n",
      "\n",
      "First Split: \n",
      "[]\n",
      "\n",
      "Remaining Split: \n",
      "[[2 2 4]\n",
      " [8 3 1]\n",
      " [1 3 8]]\n",
      "\n"
     ]
    }
   ],
   "source": [
    "arr2d = np.random.randint(0, 9, (3,3))\n",
    "print(\"Original Array: \\n{}\".format(arr2d), end=\"\\n\\n\")\n",
    "# split along horizontal axis\n",
    "arr1, arr2 = np.hsplit(arr2d, [3])\n",
    "print(\"First Split: \\n{}\".format(arr2), end=\"\\n\\n\")\n",
    "print(\"Remaining Split: \\n{}\".format(arr1), end=\"\\n\\n\")"
   ]
  },
  {
   "cell_type": "markdown",
   "metadata": {},
   "source": [
    "## 04 - 02 Ufuncs\n",
    "Python's default implementation does some operations slowly. This is in part due to the dynamic and interpreted nature of the language. It is this feature that allows `type`s to be flexible but since the type has to be checked at every operation, the sequences of operations cannot be compiled down to efficient machine code as in languages like C.\n",
    "Lets take a look at python native implementation of this:\n",
    "\n"
   ]
  },
  {
   "cell_type": "code",
   "execution_count": 17,
   "metadata": {
    "collapsed": true
   },
   "outputs": [],
   "source": [
    "from __future__ import print_function\n",
    "import numpy as np\n",
    "def get_sin(arr):\n",
    "    # Create an empty output array of same size as input\n",
    "    output = np.empty_like(arr)\n",
    "    for i in range(len(output)):\n",
    "        output[i] = np.sin(arr[i])\n",
    "    return output"
   ]
  },
  {
   "cell_type": "code",
   "execution_count": 18,
   "metadata": {},
   "outputs": [
    {
     "name": "stdout",
     "output_type": "stream",
     "text": [
      "CPU times: user 13.7 s, sys: 67.2 ms, total: 13.8 s\n",
      "Wall time: 13.8 s\n"
     ]
    },
    {
     "data": {
      "text/plain": [
       "array([ 0.47306933, -0.32729591, -0.40434032, ..., -0.08669627,\n",
       "       -0.00790195,  0.23159298])"
      ]
     },
     "execution_count": 18,
     "metadata": {},
     "output_type": "execute_result"
    }
   ],
   "source": [
    "input_arr = np.random.uniform(-np.pi, np.pi, 10000000)\n",
    "%time get_sin(input_arr)"
   ]
  },
  {
   "cell_type": "markdown",
   "metadata": {},
   "source": [
    "> - ipython adds some commands to add further enhancements to the interactivity of ipython. These commands begin with `%` and are known as magic commands.\n",
    "> - `%time` gives information about the time taken to execute a python statement.\n",
    "> - There are many built-in magic commands .. and as always, since the magic commands start with `%`, you can simply type `%` in one of the code blocks and press `?` or `Shift + <TAB>` after it to get the docstring.\n",
    "> - Remeber that these magic commands are specific only to ipython (and jupyter notebooks). These cannot be implemented in native python code.\n",
    "\n",
    "Even though the above implementation is correct and might look optimized for people who are familiar with languages like C and Java, the above loop takes significant amount of time (check the `total` CPU times) and is horribly inefficient due to the reasons we mentioned above. \n",
    "\n",
    "This is where Numpy's `ufunc`s come to save the day. NumPy provides a convenient interface into these kinds of statically typed, compiled routine. This is known as a `vectorized operation`. This can be accomplished by simply performing an operation on the array, which will then be applied to each element. \n",
    "\n",
    "> The vectorized approach is designed to push the `loop` part of the code into the compiled layer that underlies NumPy, leading to much faster execution.\n",
    "\n",
    "Let's take a look at Numpy ufunc based solution for same example"
   ]
  },
  {
   "cell_type": "code",
   "execution_count": 19,
   "metadata": {},
   "outputs": [
    {
     "name": "stdout",
     "output_type": "stream",
     "text": [
      "CPU times: user 146 ms, sys: 103 µs, total: 146 ms\n",
      "Wall time: 146 ms\n"
     ]
    },
    {
     "data": {
      "text/plain": [
       "array([-0.58934641, -0.98125783, -0.2890509 , ..., -0.84633972,\n",
       "        0.70741223,  0.08185639])"
      ]
     },
     "execution_count": 19,
     "metadata": {},
     "output_type": "execute_result"
    }
   ],
   "source": [
    "input_arr = np.random.uniform(-np.pi, np.pi, 10000000)\n",
    "%time np.sin(input_arr)"
   ]
  },
  {
   "cell_type": "markdown",
   "metadata": {},
   "source": [
    "Thats much faster, right?\n",
    "\n",
    "You can also use these ufuncs on multi-dimensional array. "
   ]
  },
  {
   "cell_type": "code",
   "execution_count": 143,
   "metadata": {},
   "outputs": [
    {
     "data": {
      "text/plain": [
       "3.141592653589793"
      ]
     },
     "execution_count": 143,
     "metadata": {},
     "output_type": "execute_result"
    }
   ],
   "source": [
    "np.pi"
   ]
  },
  {
   "cell_type": "code",
   "execution_count": 120,
   "metadata": {},
   "outputs": [
    {
     "name": "stdout",
     "output_type": "stream",
     "text": [
      "Original Array: \n",
      "[[76 15 35 75]\n",
      " [11 80  4 28]\n",
      " [15 98 21 47]]\n",
      "\n",
      "Reciprocal: \n",
      "[[0.01315789 0.06666667 0.02857143 0.01333333]\n",
      " [0.09090909 0.0125     0.25       0.03571429]\n",
      " [0.06666667 0.01020408 0.04761905 0.0212766 ]]\n",
      "\n"
     ]
    }
   ],
   "source": [
    "arr = np.random.randint(1, 100, (3, 4))\n",
    "# take reciprocal\n",
    "print(\"Original Array: \\n{}\".format(arr), end=\"\\n\\n\")\n",
    "print(\"Reciprocal: \\n{}\".format(1/arr), end=\"\\n\\n\")"
   ]
  },
  {
   "cell_type": "markdown",
   "metadata": {},
   "source": [
    "### 04 - 02.01 Array Mathematics\n",
    "\n",
    "#### .. 02.01.01 Arithmetic Operations\n",
    "Python's native operators can be directly used as a convinient wrapper for Numpy's ufuncs to `broadcast` the operation over all the elements of that array."
   ]
  },
  {
   "cell_type": "code",
   "execution_count": 127,
   "metadata": {},
   "outputs": [
    {
     "name": "stdout",
     "output_type": "stream",
     "text": [
      "x      = [-5 -4 -3 -2 -1  0  1  2  3  4]\n",
      "x + 10  = [ 5  6  7  8  9 10 11 12 13 14]\n",
      "x - 10  = [-15 -14 -13 -12 -11 -10  -9  -8  -7  -6]\n",
      "x * 4  = [-20 -16 -12  -8  -4   0   4   8  12  16]\n",
      "x / 4  = [-1.25 -1.   -0.75 -0.5  -0.25  0.    0.25  0.5   0.75  1.  ]\n",
      "x % 4  = [3 0 1 2 3 0 1 2 3 0]\n",
      "x // 4 = [-2 -1 -1 -1 -1  0  0  0  0  1]\n",
      "x ** 2 = [25 16  9  4  1  0  1  4  9 16]\n",
      "abs(x) = [5 4 3 2 1 0 1 2 3 4]\n"
     ]
    }
   ],
   "source": [
    "x = np.arange(-5, 5)\n",
    "print(\"x      =\", x)\n",
    "print(\"x + 10  =\", x + 10) # wrapper for np.sum \n",
    "print(\"x - 10  =\", x - 10) # wrapper for np.subtract\n",
    "print(\"x * 4  =\", x * 4)  # wrapper for np.multiply\n",
    "print(\"x / 4  =\", x / 4) # wrapper for np.divide\n",
    "print(\"x % 4  =\", x % 4)  # wrapper for np.mod      #### (-2*4 + 3)%4 = 3\n",
    "print(\"x // 4 =\", x // 4) # wrapper for np.floor_divide\n",
    "print(\"x ** 2 =\", x ** 2) # wrapper for np.power\n",
    "print(\"abs(x) =\", abs(x)) # wrapper for np.abs"
   ]
  },
  {
   "cell_type": "code",
   "execution_count": 133,
   "metadata": {},
   "outputs": [
    {
     "name": "stdout",
     "output_type": "stream",
     "text": [
      "<class 'numpy.ndarray'>\n"
     ]
    }
   ],
   "source": [
    "x\n",
    "z=x/4\n",
    "print(type(z))"
   ]
  },
  {
   "cell_type": "markdown",
   "metadata": {},
   "source": [
    "> The above operations have been performed on the array of a particular datatype and so the result will have the same datatype as the array that is being operated on. However when you perform any operation on an array that results in a different datatype or on multiple arrays of different datatypes, the type of the resulting array will correspond to the more *precise* one. This is also known as `upcast`ing.\n",
    "\n",
    "> In the above example, check the output of division (` / `). Can you find the type of that array?\n",
    "\n",
    "When standard mathematical operations are used with numpy arrays, they are applied on an element-by-element basis and a new array is created and filled with the result. This means that the arrays should be of same size when any mathematical operation is performed on them."
   ]
  },
  {
   "cell_type": "code",
   "execution_count": 145,
   "metadata": {},
   "outputs": [
    {
     "name": "stdout",
     "output_type": "stream",
     "text": [
      "Array1: \n",
      "[1. 2. 3. 4.]\n",
      "\n",
      "Array2: \n",
      "[ 4.  8. 12. 16.]\n",
      "\n",
      "\n",
      " Array2 - Array1: \n",
      " [ 3.  6.  9. 12.]\n",
      "\n"
     ]
    }
   ],
   "source": [
    "arr1 = np.array([1., 2., 3., 4.])\n",
    "arr2 = np.linspace(4, 16, num=4)\n",
    "print(\"Array1: \\n{}\".format(arr1), end=\"\\n\\n\")\n",
    "print(\"Array2: \\n{}\".format(arr2), end=\"\\n\\n\")\n",
    "print(\"\\n Array2 - Array1: \\n {}\".format(arr2-arr1), end=\"\\n\\n\")"
   ]
  },
  {
   "cell_type": "code",
   "execution_count": 138,
   "metadata": {},
   "outputs": [
    {
     "name": "stdout",
     "output_type": "stream",
     "text": [
      "final result:\n",
      " [ 3.  6.  9. 12.]\n",
      "\n"
     ]
    }
   ],
   "source": [
    "arr1 = np.array([1., 2., 3., 4.])    #by me\n",
    "arr2 = np.linspace(4, 16, num=4)\n",
    "arr3 = arr2 - arr1\n",
    "print(\"final result:\\n {}\".format(arr3),end = \"\\n\\n\")\n"
   ]
  },
  {
   "cell_type": "markdown",
   "metadata": {},
   "source": [
    "However, if there was a size mismatch, then we would receive a `ValueError`"
   ]
  },
  {
   "cell_type": "code",
   "execution_count": 146,
   "metadata": {},
   "outputs": [
    {
     "ename": "ValueError",
     "evalue": "operands could not be broadcast together with shapes (3,) (4,) ",
     "output_type": "error",
     "traceback": [
      "\u001b[1;31m---------------------------------------------------------------------------\u001b[0m",
      "\u001b[1;31mValueError\u001b[0m                                Traceback (most recent call last)",
      "\u001b[1;32m<ipython-input-146-6db414b41f4e>\u001b[0m in \u001b[0;36m<module>\u001b[1;34m()\u001b[0m\n\u001b[0;32m      1\u001b[0m \u001b[0marr2\u001b[0m \u001b[1;33m=\u001b[0m \u001b[0mnp\u001b[0m\u001b[1;33m.\u001b[0m\u001b[0mlinspace\u001b[0m\u001b[1;33m(\u001b[0m\u001b[1;36m4\u001b[0m\u001b[1;33m,\u001b[0m \u001b[1;36m16\u001b[0m\u001b[1;33m,\u001b[0m \u001b[0mnum\u001b[0m\u001b[1;33m=\u001b[0m\u001b[1;36m3\u001b[0m\u001b[1;33m)\u001b[0m\u001b[1;33m\u001b[0m\u001b[0m\n\u001b[1;32m----> 2\u001b[1;33m \u001b[0mprint\u001b[0m\u001b[1;33m(\u001b[0m\u001b[1;34m\"\\n Array2 - Array1: \\n {}\"\u001b[0m\u001b[1;33m.\u001b[0m\u001b[0mformat\u001b[0m\u001b[1;33m(\u001b[0m\u001b[0marr2\u001b[0m\u001b[1;33m-\u001b[0m\u001b[0marr1\u001b[0m\u001b[1;33m)\u001b[0m\u001b[1;33m,\u001b[0m \u001b[0mend\u001b[0m\u001b[1;33m=\u001b[0m\u001b[1;34m\"\\n\\n\"\u001b[0m\u001b[1;33m)\u001b[0m\u001b[1;33m\u001b[0m\u001b[0m\n\u001b[0m",
      "\u001b[1;31mValueError\u001b[0m: operands could not be broadcast together with shapes (3,) (4,) "
     ]
    }
   ],
   "source": [
    "arr2 = np.linspace(4, 16, num=3)\n",
    "print(\"\\n Array2 - Array1: \\n {}\".format(arr2-arr1), end=\"\\n\\n\")"
   ]
  },
  {
   "cell_type": "markdown",
   "metadata": {},
   "source": [
    "> Well you might wonder why was it that we did not get a broadcast error when we performed addition of a single number over an array.. We shall look at this in the module on Broadcasting.\n",
    "\n",
    "#### .. 02.01.02 Trignometric Functions\n",
    "Just like Arithemetic operations, Numpy provides a bunch of trignometric `ufuncs`. Lets take a look at some"
   ]
  },
  {
   "cell_type": "code",
   "execution_count": 147,
   "metadata": {},
   "outputs": [
    {
     "name": "stdout",
     "output_type": "stream",
     "text": [
      "Input Array: \n",
      "[0.11285266 0.18760819 0.80252693 0.48972433 0.67382285]\n",
      "\n",
      "sin: \n",
      "[0.11261327 0.18650959 0.71911433 0.47038264 0.62397788]\n",
      "\n",
      "cos: \n",
      "[0.99363889 0.98245314 0.69489178 0.88246256 0.78144201]\n",
      "\n",
      "tan: \n",
      "[0.1133342  0.1898407  1.03485802 0.5330341  0.79849544]\n",
      "\n",
      "arcsin: \n",
      "[0.11309359 0.18872653 0.93151867 0.51177355 0.73937042]\n",
      "\n",
      "arccos: \n",
      "[1.45770274 1.3820698  0.63927765 1.05902278 0.83142591]\n",
      "\n",
      "arctan: \n",
      "[0.1123772  0.18545246 0.67627986 0.45539333 0.59294054]\n",
      "\n"
     ]
    }
   ],
   "source": [
    "input_arr = np.random.uniform(-1, 1, 5)\n",
    "print(\"Input Array: \\n{}\".format(input_arr), end=\"\\n\\n\")\n",
    "print(\"sin: \\n{}\".format(np.sin(input_arr)), end=\"\\n\\n\")\n",
    "print(\"cos: \\n{}\".format(np.cos(input_arr)), end=\"\\n\\n\")\n",
    "print(\"tan: \\n{}\".format(np.tan(input_arr)), end=\"\\n\\n\")\n",
    "print(\"arcsin: \\n{}\".format(np.arcsin(input_arr)), end=\"\\n\\n\")\n",
    "print(\"arccos: \\n{}\".format(np.arccos(input_arr)), end=\"\\n\\n\")\n",
    "print(\"arctan: \\n{}\".format(np.arctan(input_arr)), end=\"\\n\\n\")"
   ]
  },
  {
   "cell_type": "markdown",
   "metadata": {},
   "source": [
    "#### .. 02.01.03 Logarithmic Functions\n",
    "Numpy provides logarithmic ufuncs for different `base`s"
   ]
  },
  {
   "cell_type": "code",
   "execution_count": 148,
   "metadata": {},
   "outputs": [
    {
     "name": "stdout",
     "output_type": "stream",
     "text": [
      "x        = [4 2 2 2 1]\n",
      "ln(x)    = [1.38629436 0.69314718 0.69314718 0.69314718 0.        ]\n",
      "log2(x)  = [2. 1. 1. 1. 0.]\n",
      "log10(x) = [0.60205999 0.30103    0.30103    0.30103    0.        ]\n"
     ]
    }
   ],
   "source": [
    "input_arr = np.random.randint(1, 7, 5)\n",
    "print(\"x        =\", input_arr)\n",
    "print(\"ln(x)    =\", np.log(input_arr))\n",
    "print(\"log2(x)  =\", np.log2(input_arr))\n",
    "print(\"log10(x) =\", np.log10(input_arr))"
   ]
  },
  {
   "cell_type": "markdown",
   "metadata": {},
   "source": [
    "Counterpart of Logs, we also have exponential ufuncs"
   ]
  },
  {
   "cell_type": "code",
   "execution_count": 183,
   "metadata": {},
   "outputs": [
    {
     "name": "stdout",
     "output_type": "stream",
     "text": [
      "x     = [6 4 5 1 2]\n",
      "e^x   = [403.42879349  54.59815003 148.4131591    2.71828183   7.3890561 ]\n",
      "2^x   = [64. 16. 32.  2.  4.]\n",
      "10^x   = [1000000   10000  100000      10     100]\n"
     ]
    }
   ],
   "source": [
    "input_arr = np.random.randint(1, 7, 5)\n",
    "print(\"x     =\", input_arr)\n",
    "print(\"e^x   =\", np.exp(input_arr))\n",
    "print(\"2^x   =\", np.exp2(input_arr))\n",
    "print(\"10^x   =\", np.power(10, input_arr))"
   ]
  },
  {
   "cell_type": "code",
   "execution_count": 186,
   "metadata": {},
   "outputs": [
    {
     "ename": "AttributeError",
     "evalue": "module 'numpy' has no attribute 'exp10'",
     "output_type": "error",
     "traceback": [
      "\u001b[1;31m---------------------------------------------------------------------------\u001b[0m",
      "\u001b[1;31mAttributeError\u001b[0m                            Traceback (most recent call last)",
      "\u001b[1;32m<ipython-input-186-a777c0eb456c>\u001b[0m in \u001b[0;36m<module>\u001b[1;34m()\u001b[0m\n\u001b[1;32m----> 1\u001b[1;33m \u001b[0mprint\u001b[0m\u001b[1;33m(\u001b[0m\u001b[1;34m\"10^x   =\"\u001b[0m\u001b[1;33m,\u001b[0m \u001b[0mnp\u001b[0m\u001b[1;33m.\u001b[0m\u001b[0mexp10\u001b[0m\u001b[1;33m(\u001b[0m\u001b[0minput_arr\u001b[0m\u001b[1;33m)\u001b[0m\u001b[1;33m)\u001b[0m\u001b[1;33m\u001b[0m\u001b[0m\n\u001b[0m",
      "\u001b[1;31mAttributeError\u001b[0m: module 'numpy' has no attribute 'exp10'"
     ]
    }
   ],
   "source": [
    "print(\"10^x   =\", np.exp10(input_arr))"
   ]
  },
  {
   "cell_type": "markdown",
   "metadata": {},
   "source": [
    "## 04 - 03 Broadcasting and more Computation\n",
    "### 04 - 03.01 Broadcasting\n",
    "Broadcasting is a set of rules for applying `ufuncs` (e.g., addition, subtraction, multiplication, etc.) on arrays of different sizes. It is an important functionality to leverage the power of Numpy. \n",
    "\n",
    "If you remember from previous module, `ufunc` operations are performed element-by-element wise. Lets take a look at adding a scalar (we did this in Arithmetic subsection of previous module)"
   ]
  },
  {
   "cell_type": "code",
   "execution_count": 153,
   "metadata": {},
   "outputs": [
    {
     "name": "stdout",
     "output_type": "stream",
     "text": [
      "Arr1: \n",
      "[27 28 16 10  1]\n",
      "\n",
      "num : \n",
      "5\n",
      "\n",
      "Sum : \n",
      "[32 33 21 15  6]\n",
      "\n"
     ]
    }
   ],
   "source": [
    "from __future__ import print_function\n",
    "import numpy as np\n",
    "arr1 = np.random.randint(1,40,5)\n",
    "num  = 5\n",
    "print(\"Arr1: \\n{}\".format(arr1), end=\"\\n\\n\")\n",
    "print(\"num : \\n{}\".format(num), end=\"\\n\\n\")\n",
    "print(\"Sum : \\n{}\".format(arr1+num), end=\"\\n\\n\")"
   ]
  },
  {
   "cell_type": "code",
   "execution_count": 155,
   "metadata": {},
   "outputs": [
    {
     "name": "stdout",
     "output_type": "stream",
     "text": [
      "Arr1: \n",
      "[33 22  1 21 19  2]\n",
      "\n",
      "num : \n",
      "5\n",
      "\n",
      "Sum : \n",
      "[38 27  6 26 24  7]\n",
      "\n"
     ]
    }
   ],
   "source": [
    "import numpy as np      # without from __future__import_function\n",
    "arr1 = np.random.randint(1, 40, 6)\n",
    "num  = 5\n",
    "print(\"Arr1: \\n{}\".format(arr1), end=\"\\n\\n\")\n",
    "print(\"num : \\n{}\".format(num), end=\"\\n\\n\")\n",
    "print(\"Sum : \\n{}\".format(arr1+num), end=\"\\n\\n\")"
   ]
  },
  {
   "cell_type": "markdown",
   "metadata": {},
   "source": [
    "Broadcasting allows these types of binary operations to be performed on arrays of different sizes just as we added a scalar (think of a scalar as a zero-dimensional array) to the array.\n",
    "\n",
    "We can think of this as an operation that *stretches* or *duplicates* the value `5` into the array `[5, 5, 5, 5, 5]`, and adds it to the array. This duplication does not actually take place during Broadcasting but it is a useful logic to remember when you talk about broadcasting.\n",
    "\n",
    "Just like adding scalar, we can perform broadcasting on multi-dimensional arrays as well.. however there are rules to be followed for `broadcasting` to work.\n",
    "\n",
    "- Rule 1: If the two arrays differ in their number of dimensions, the shape of the one with fewer dimensions is *padded* with ones on its leading (left) side.\n",
    "- Rule 2: If the shape of the two arrays does not match in any dimension, the array with shape equal to 1 in that dimension is stretched to match the other shape.\n",
    "- Rule 3: If in any dimension the sizes disagree and neither is equal to 1, an error is raised.\n",
    "\n",
    "Lets add two arrays of different sizes"
   ]
  },
  {
   "cell_type": "code",
   "execution_count": 166,
   "metadata": {},
   "outputs": [
    {
     "data": {
      "text/plain": [
       "array([0, 1, 2, 3])"
      ]
     },
     "execution_count": 166,
     "metadata": {},
     "output_type": "execute_result"
    }
   ],
   "source": [
    "arr1 = np.ones((3, 4))\n",
    "arr2 = np.arange(4)\n"
   ]
  },
  {
   "cell_type": "markdown",
   "metadata": {},
   "source": [
    "Lets match these arrays to our set of Rules.\n",
    "\n",
    "Rule 1: Shape mismatch!\n",
    "- arr1 is of shape `m1 x n1 = 3 x 4`\n",
    "- arr2 is of shape `m2 x n2 = 1 x 4`\n",
    "\n",
    "Rule 2: **Stretch** `m2` or the first dimension of arr2 to match `m1` or the first dimension of arr1. So Now,\n",
    "- arr1 is of shape `m1 x n1 = 3 x 4`\n",
    "- arr2 is of shape `m2 x n2 = 3 x 4`\n",
    "\n",
    "Rule 3: Doesnt apply since m1 x n1 = m2 x n2"
   ]
  },
  {
   "cell_type": "code",
   "execution_count": 157,
   "metadata": {},
   "outputs": [
    {
     "data": {
      "text/plain": [
       "array([[1., 2., 3., 4.],\n",
       "       [1., 2., 3., 4.],\n",
       "       [1., 2., 3., 4.]])"
      ]
     },
     "execution_count": 157,
     "metadata": {},
     "output_type": "execute_result"
    }
   ],
   "source": [
    "arr1 + arr2"
   ]
  },
  {
   "cell_type": "markdown",
   "metadata": {},
   "source": [
    "Now lets look at an example where we add arr1 to the transpose of arr1 itself. Lets first print out the transpose and then we shall apply the rules as we did for previous example"
   ]
  },
  {
   "cell_type": "code",
   "execution_count": 32,
   "metadata": {},
   "outputs": [
    {
     "name": "stdout",
     "output_type": "stream",
     "text": [
      "Arr1: \n",
      "[[ 1.  1.  1.  1.]\n",
      " [ 1.  1.  1.  1.]\n",
      " [ 1.  1.  1.  1.]]\n",
      "arr1.shape: (3, 4)\n",
      "\n",
      "Arr1 Transpose: \n",
      "[[ 1.  1.  1.]\n",
      " [ 1.  1.  1.]\n",
      " [ 1.  1.  1.]\n",
      " [ 1.  1.  1.]]\n",
      "arr1.T.shape: (4, 3)\n"
     ]
    }
   ],
   "source": [
    "print(\"Arr1: \\n{}\".format(arr1))\n",
    "print(\"arr1.shape: {}\".format(arr1.shape), end=\"\\n\\n\")\n",
    "print(\"Arr1 Transpose: \\n{}\".format(arr1.T))\n",
    "print(\"arr1.T.shape: {}\".format(arr1.T.shape))"
   ]
  },
  {
   "cell_type": "markdown",
   "metadata": {},
   "source": [
    "Lets apply our rules:\n",
    "\n",
    "Rule 1: Shape mismatch!\n",
    "- arr1 is of shape   `m1 x n1 = 3 x 4`\n",
    "- arr1.T is of shape `m2 x n2 = 4 x 3`\n",
    "\n",
    "Rule 2: **Stretch** `m1` or the first dimension of arr1 to match `m2` or the first dimension of arr1.T. So now,\n",
    "- arr1 is of shape   `m1 x n1 = 4 x 4`\n",
    "- arr1.T is of shape `m2 x n2 = 4 x 3`\n",
    "\n",
    "Rule 3: `n1` and `n2` or the second dimension of both the arrays are definitely not `1` and they don't match! This will raise a `ValueError`"
   ]
  },
  {
   "cell_type": "code",
   "execution_count": 158,
   "metadata": {},
   "outputs": [
    {
     "ename": "ValueError",
     "evalue": "operands could not be broadcast together with shapes (3,4) (4,3) ",
     "output_type": "error",
     "traceback": [
      "\u001b[1;31m---------------------------------------------------------------------------\u001b[0m",
      "\u001b[1;31mValueError\u001b[0m                                Traceback (most recent call last)",
      "\u001b[1;32m<ipython-input-158-c545f5548cf5>\u001b[0m in \u001b[0;36m<module>\u001b[1;34m()\u001b[0m\n\u001b[1;32m----> 1\u001b[1;33m \u001b[0marr1\u001b[0m \u001b[1;33m+\u001b[0m \u001b[0marr1\u001b[0m\u001b[1;33m.\u001b[0m\u001b[0mT\u001b[0m\u001b[1;33m\u001b[0m\u001b[0m\n\u001b[0m",
      "\u001b[1;31mValueError\u001b[0m: operands could not be broadcast together with shapes (3,4) (4,3) "
     ]
    }
   ],
   "source": [
    "arr1 + arr1.T"
   ]
  },
  {
   "cell_type": "markdown",
   "metadata": {},
   "source": [
    "So whats important is that the second dimension of both the arrays need to match! The first dimension can be stretched to match the size of the largest array. Thats how broadcasting works!\n",
    "\n",
    "Take a look at the example from previous module where we got a ValueError when we tried broadcasting on two arrays of different shape:\n",
    "```ipython\n",
    "arr1 = np.array([1., 2., 3., 4.])\n",
    "arr2 = np.linspace(4, 16, num=3)\n",
    "arr1 + arr2\n",
    "```\n",
    "Can you solve it now?"
   ]
  },
  {
   "cell_type": "code",
   "execution_count": 162,
   "metadata": {},
   "outputs": [
    {
     "ename": "ValueError",
     "evalue": "operands could not be broadcast together with shapes (4,) (3,) ",
     "output_type": "error",
     "traceback": [
      "\u001b[1;31m---------------------------------------------------------------------------\u001b[0m",
      "\u001b[1;31mValueError\u001b[0m                                Traceback (most recent call last)",
      "\u001b[1;32m<ipython-input-162-d40733b94c9b>\u001b[0m in \u001b[0;36m<module>\u001b[1;34m()\u001b[0m\n\u001b[0;32m      1\u001b[0m \u001b[0marr1\u001b[0m \u001b[1;33m=\u001b[0m \u001b[0mnp\u001b[0m\u001b[1;33m.\u001b[0m\u001b[0marray\u001b[0m\u001b[1;33m(\u001b[0m\u001b[1;33m[\u001b[0m\u001b[1;36m1.\u001b[0m\u001b[1;33m,\u001b[0m \u001b[1;36m2.\u001b[0m\u001b[1;33m,\u001b[0m \u001b[1;36m3.\u001b[0m\u001b[1;33m,\u001b[0m \u001b[1;36m4.\u001b[0m\u001b[1;33m]\u001b[0m\u001b[1;33m)\u001b[0m\u001b[1;33m\u001b[0m\u001b[0m\n\u001b[0;32m      2\u001b[0m \u001b[0marr2\u001b[0m \u001b[1;33m=\u001b[0m \u001b[0mnp\u001b[0m\u001b[1;33m.\u001b[0m\u001b[0mlinspace\u001b[0m\u001b[1;33m(\u001b[0m\u001b[1;36m4\u001b[0m\u001b[1;33m,\u001b[0m \u001b[1;36m16\u001b[0m\u001b[1;33m,\u001b[0m \u001b[0mnum\u001b[0m\u001b[1;33m=\u001b[0m\u001b[1;36m3\u001b[0m\u001b[1;33m)\u001b[0m\u001b[1;33m\u001b[0m\u001b[0m\n\u001b[1;32m----> 3\u001b[1;33m \u001b[0marr3\u001b[0m \u001b[1;33m=\u001b[0m \u001b[0marr1\u001b[0m \u001b[1;33m+\u001b[0m \u001b[0marr2\u001b[0m\u001b[1;33m\u001b[0m\u001b[0m\n\u001b[0m\u001b[0;32m      4\u001b[0m \u001b[0marr3\u001b[0m\u001b[1;33m\u001b[0m\u001b[0m\n",
      "\u001b[1;31mValueError\u001b[0m: operands could not be broadcast together with shapes (4,) (3,) "
     ]
    }
   ],
   "source": [
    "arr1 = np.array([1., 2., 3., 4.])\n",
    "arr2 = np.linspace(4, 16, num=3)\n",
    "arr3 = arr1 + arr2\n",
    "arr3"
   ]
  },
  {
   "cell_type": "markdown",
   "metadata": {},
   "source": [
    "### 04 - 03.02 Aggregation\n",
    "When performing analysis on any dataset, most of the times the first thing that you would end up doing is finding the summary statistics of the datasets. Things like maximum, minimum, mean, variance etc. is the first thing you would look at (for the relevant columns). Numpy provides such fast-performing aggregation ufuncs. Lets take a look at some\n",
    "\n",
    "#### .. 03.02.01 sum\n",
    "As the name suggests, this function will return the sum of all the values of an array"
   ]
  },
  {
   "cell_type": "code",
   "execution_count": 169,
   "metadata": {},
   "outputs": [
    {
     "name": "stdout",
     "output_type": "stream",
     "text": [
      "Sum of 1D: 3495039\n"
     ]
    }
   ],
   "source": [
    "arr = np.random.randint(1, 700, 10000)\n",
    "print(\"Sum of 1D: {}\".format(np.sum(arr)))"
   ]
  },
  {
   "cell_type": "code",
   "execution_count": 178,
   "metadata": {},
   "outputs": [
    {
     "name": "stdout",
     "output_type": "stream",
     "text": [
      "sum:45\n"
     ]
    }
   ],
   "source": [
    "a = np.arange(10)\n",
    "print(\"sum:{}\" .format(np.sum(a)))"
   ]
  },
  {
   "cell_type": "code",
   "execution_count": 172,
   "metadata": {},
   "outputs": [
    {
     "name": "stdout",
     "output_type": "stream",
     "text": [
      "Sum of 2D: 4035.9561312439864\n"
     ]
    }
   ],
   "source": [
    "arr2d = np.random.uniform(1, 700, (3, 4))\n",
    "print(\"Sum of 2D: {}\".format(np.sum(arr2d)))"
   ]
  },
  {
   "cell_type": "code",
   "execution_count": 179,
   "metadata": {},
   "outputs": [
    {
     "name": "stdout",
     "output_type": "stream",
     "text": [
      "Max of 1D arr: 699\n",
      "Min of 1D arr: 1\n",
      "Max of 2D arr: 687.5653307105855\n",
      "Min of 2D arr: 63.30760831166215\n"
     ]
    }
   ],
   "source": [
    "print(\"Max of 1D arr: {}\".format(np.max(arr)))\n",
    "print(\"Min of 1D arr: {}\".format(np.min(arr)))\n",
    "print(\"Max of 2D arr: {}\".format(np.max(arr2d)))\n",
    "print(\"Min of 2D arr: {}\".format(np.min(arr2d)))"
   ]
  },
  {
   "cell_type": "markdown",
   "metadata": {},
   "source": [
    "We can also get minimum and maximum along a particular axis\n",
    "> - axis 0 = along the column\n",
    "> - axis 1 = along the row"
   ]
  },
  {
   "cell_type": "code",
   "execution_count": 180,
   "metadata": {},
   "outputs": [
    {
     "name": "stdout",
     "output_type": "stream",
     "text": [
      "2D Array: \n",
      "[[ 63.30760831 162.46921077 687.56533071 240.04659236]\n",
      " [135.47110592 364.66551158 355.58963944  92.93454259]\n",
      " [461.56128809 526.31620872 540.54375786 405.48533489]]\n",
      "\n",
      "Max of 2D arr along axis 0: [461.56128809 526.31620872 687.56533071 405.48533489]\n",
      "Min of 2D arr along axis 0: [ 63.30760831 162.46921077 355.58963944  92.93454259]\n"
     ]
    }
   ],
   "source": [
    "print(\"2D Array: \\n{}\".format(arr2d), end=\"\\n\\n\")\n",
    "print(\"Max of 2D arr along axis 0: {}\".format(np.amax(arr2d, axis=0)))\n",
    "print(\"Min of 2D arr along axis 0: {}\".format(np.amin(arr2d, axis=0)))"
   ]
  },
  {
   "cell_type": "code",
   "execution_count": 181,
   "metadata": {},
   "outputs": [
    {
     "name": "stdout",
     "output_type": "stream",
     "text": [
      "2D Array: \n",
      "[[ 63.30760831 162.46921077 687.56533071 240.04659236]\n",
      " [135.47110592 364.66551158 355.58963944  92.93454259]\n",
      " [461.56128809 526.31620872 540.54375786 405.48533489]]\n",
      "\n",
      "Max of 2D arr along axis 0: [687.56533071 364.66551158 540.54375786]\n",
      "Min of 2D arr along axis 0: [ 63.30760831  92.93454259 405.48533489]\n"
     ]
    }
   ],
   "source": [
    "print(\"2D Array: \\n{}\".format(arr2d), end=\"\\n\\n\")\n",
    "print(\"Max of 2D arr along axis 0: {}\".format(np.amax(arr2d, axis=1)))\n",
    "print(\"Min of 2D arr along axis 0: {}\".format(np.amin(arr2d, axis=1)))"
   ]
  },
  {
   "cell_type": "markdown",
   "metadata": {},
   "source": [
    "#### .. 03.03.03 std\n",
    "Compute standard deviation along a particular axis"
   ]
  },
  {
   "cell_type": "code",
   "execution_count": 182,
   "metadata": {},
   "outputs": [
    {
     "name": "stdout",
     "output_type": "stream",
     "text": [
      "2D Array: \n",
      "[[ 63.30760831 162.46921077 687.56533071 240.04659236]\n",
      " [135.47110592 364.66551158 355.58963944  92.93454259]\n",
      " [461.56128809 526.31620872 540.54375786 405.48533489]]\n",
      "\n",
      "Std along axis 0: \n",
      "[173.25266416 148.84702433 135.82309916 127.6714231 ]\n",
      "Std along axis 1: \n",
      "[238.8494037  123.92018461  53.97872477]\n"
     ]
    }
   ],
   "source": [
    "print(\"2D Array: \\n{}\".format(arr2d), end=\"\\n\\n\")\n",
    "print(\"Std along axis 0: \\n{}\".format(np.std(arr2d, axis=0)))\n",
    "print(\"Std along axis 1: \\n{}\".format(np.std(arr2d, axis=1)))"
   ]
  },
  {
   "cell_type": "markdown",
   "metadata": {},
   "source": [
    "We will take a look at more of these in module on matplotlib so that while we will be printing the output, we will also be able to plot the results for a better understanding. If you are intersted to know about more such functions, you can check the link on official documentation here: [`Numpy Statistics Routines`](https://docs.scipy.org/doc/numpy/reference/routines.statistics.html)"
   ]
  }
 ],
 "metadata": {
  "kernelspec": {
   "display_name": "Python 3",
   "language": "python",
   "name": "python3"
  },
  "language_info": {
   "codemirror_mode": {
    "name": "ipython",
    "version": 3
   },
   "file_extension": ".py",
   "mimetype": "text/x-python",
   "name": "python",
   "nbconvert_exporter": "python",
   "pygments_lexer": "ipython3",
   "version": "3.7.2rc1"
  }
 },
 "nbformat": 4,
 "nbformat_minor": 2
}
